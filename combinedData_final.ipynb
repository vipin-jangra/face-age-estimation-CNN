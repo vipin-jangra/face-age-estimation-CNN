{
  "nbformat": 4,
  "nbformat_minor": 0,
  "metadata": {
    "colab": {
      "provenance": [],
      "authorship_tag": "ABX9TyPWyVsILTpVTyh63lh7KDOf",
      "include_colab_link": true
    },
    "kernelspec": {
      "name": "python3",
      "display_name": "Python 3"
    },
    "language_info": {
      "name": "python"
    }
  },
  "cells": [
    {
      "cell_type": "markdown",
      "metadata": {
        "id": "view-in-github",
        "colab_type": "text"
      },
      "source": [
        "<a href=\"https://colab.research.google.com/github/vipin-jangra/face-age-estimation-CNN/blob/main/combinedData_final.ipynb\" target=\"_parent\"><img src=\"https://colab.research.google.com/assets/colab-badge.svg\" alt=\"Open In Colab\"/></a>"
      ]
    },
    {
      "cell_type": "code",
      "source": [
        "import os\n",
        "from zipfile import ZipFile\n",
        "import shutil\n",
        "import pandas as pd\n",
        "from PIL import Image\n",
        "from sklearn.model_selection import train_test_split"
      ],
      "metadata": {
        "id": "QlFiF1d8ufps"
      },
      "execution_count": 1,
      "outputs": []
    },
    {
      "cell_type": "code",
      "source": [
        "from google.colab import drive\n",
        "\n",
        "drive.mount('/content/drive')"
      ],
      "metadata": {
        "colab": {
          "base_uri": "https://localhost:8080/"
        },
        "id": "IWcs6_iTtBdc",
        "outputId": "3e8257dc-00b4-4f4b-e313-20b25ca9dd0b"
      },
      "execution_count": 2,
      "outputs": [
        {
          "output_type": "stream",
          "name": "stdout",
          "text": [
            "Mounted at /content/drive\n"
          ]
        }
      ]
    },
    {
      "cell_type": "code",
      "source": [
        "#Unzipping the dataset file combined_faces.zip\n",
        "\n",
        "faces_zip_path = \"/content/drive/MyDrive/Dataset/Dataset2/Combined_Dataset.zip\";\n",
        "\n",
        "with ZipFile(faces_zip_path, 'r') as myzip:\n",
        "    myzip.extractall()\n",
        "    print('Done unzipping faces.zip')"
      ],
      "metadata": {
        "colab": {
          "base_uri": "https://localhost:8080/"
        },
        "id": "-w581L5mukUU",
        "outputId": "73a1d3f1-e459-452b-e005-aa5e4b920c7f"
      },
      "execution_count": 3,
      "outputs": [
        {
          "output_type": "stream",
          "name": "stdout",
          "text": [
            "Done unzipping faces.zip\n"
          ]
        }
      ]
    },
    {
      "cell_type": "code",
      "source": [
        "dataset_dir = '/content/Dataset'\n",
        "# Get the list of all image file paths\n",
        "\n",
        "image_paths = [os.path.join(dataset_dir, fname) for fname in os.listdir(dataset_dir) if fname.endswith('.jpg')]\n",
        "print(f\"Images shape: {len(image_paths)}\")"
      ],
      "metadata": {
        "colab": {
          "base_uri": "https://localhost:8080/"
        },
        "id": "CiBDSaj2x3Ky",
        "outputId": "608deffe-a250-4e9e-8574-174e0c9ac6f1"
      },
      "execution_count": 4,
      "outputs": [
        {
          "output_type": "stream",
          "name": "stdout",
          "text": [
            "Images shape: 26268\n"
          ]
        }
      ]
    },
    {
      "cell_type": "code",
      "source": [
        "dataset_path = '/content/Dataset'  # Change this to your dataset folder\n",
        "# Extract age labels from filenames\n",
        "ages = [int(fname.split('_')[1]) for fname in os.listdir(dataset_path) if fname.endswith('.jpg')]\n",
        "print(f\"Ages shape: {len(ages)}\")"
      ],
      "metadata": {
        "colab": {
          "base_uri": "https://localhost:8080/"
        },
        "id": "lyJQccQkw-Ge",
        "outputId": "144ef571-7a63-4370-b257-316fc2f06662"
      },
      "execution_count": 5,
      "outputs": [
        {
          "output_type": "stream",
          "name": "stdout",
          "text": [
            "Ages shape: 26268\n"
          ]
        }
      ]
    },
    {
      "cell_type": "code",
      "source": [
        "# Check the distribution of ages\n",
        "age_counts = pd.Series(ages).value_counts()\n",
        "print(\"Age distribution:\\n\", age_counts)"
      ],
      "metadata": {
        "colab": {
          "base_uri": "https://localhost:8080/"
        },
        "id": "6s4bRehyC3T4",
        "outputId": "6b0aac7c-06fb-4501-e5b3-a4fadba95383"
      },
      "execution_count": 6,
      "outputs": [
        {
          "output_type": "stream",
          "name": "stdout",
          "text": [
            "Age distribution:\n",
            " 1      1113\n",
            "26      554\n",
            "35      534\n",
            "32      519\n",
            "30      494\n",
            "       ... \n",
            "99        3\n",
            "98        2\n",
            "110       2\n",
            "101       2\n",
            "97        1\n",
            "Name: count, Length: 102, dtype: int64\n"
          ]
        }
      ]
    },
    {
      "cell_type": "code",
      "source": [
        "# Find ages with fewer than 50 images\n",
        "ages_with_few_images = age_counts[age_counts < 130].index.tolist()\n",
        "\n",
        "# Print ages with fewer than 50 images\n",
        "if ages_with_few_images:\n",
        "    print(\"Ages with fewer than 50 images:\", ages_with_few_images)\n",
        "else:\n",
        "    print(\"All ages have 50 or more images.\")"
      ],
      "metadata": {
        "colab": {
          "base_uri": "https://localhost:8080/"
        },
        "id": "DiA4ng86EDzY",
        "outputId": "a9b1cd2c-cfbd-49a8-b331-ae6211602fef"
      },
      "execution_count": 13,
      "outputs": [
        {
          "output_type": "stream",
          "name": "stdout",
          "text": [
            "Ages with fewer than 50 images: [77, 6, 12, 82, 13, 79, 81, 11, 90, 83, 86, 84, 88, 89, 87, 92, 96, 91, 93, 95, 94, 100, 99, 98, 110, 101, 97]\n"
          ]
        }
      ]
    },
    {
      "cell_type": "code",
      "source": [
        "import os\n",
        "import random\n",
        "import shutil\n",
        "\n",
        "def select_images_for_ages(image_paths, ages, output_directory, max_images_per_age=130, age_limit=80):\n",
        "    # Create the output directory if it doesn't exist\n",
        "    data_dir = os.path.join(output_directory, 'Dataset_Selected')\n",
        "    os.makedirs(data_dir, exist_ok=True)\n",
        "\n",
        "    # Create a dictionary to hold images for each age\n",
        "    age_image_map = {}\n",
        "\n",
        "    # Populate the dictionary with images categorized by age\n",
        "    for img_path, age in zip(image_paths, ages):\n",
        "        if age <= age_limit:  # Only consider ages up to the specified limit\n",
        "            if age not in age_image_map:\n",
        "                age_image_map[age] = []\n",
        "            age_image_map[age].append(img_path)\n",
        "\n",
        "    # Select images\n",
        "    for age, img_list in age_image_map.items():\n",
        "        selected_images = random.sample(img_list, min(max_images_per_age, len(img_list)))  # Select up to 100 images\n",
        "        for img_path in selected_images:\n",
        "            shutil.copy(img_path, os.path.join(data_dir, f\"{os.path.basename(img_path)}\"))  # Save images with age prefix\n",
        "\n",
        "    print(f\"Selected images saved to '{data_dir}' for ages up to {age_limit}.\")\n"
      ],
      "metadata": {
        "id": "yUCvx24SFc7h"
      },
      "execution_count": 14,
      "outputs": []
    },
    {
      "cell_type": "code",
      "source": [
        "# Corresponding list of ages for the images\n",
        "output_directory = '/content/'  # Change to your desired output directory\n",
        "\n",
        "select_images_for_ages(image_paths, ages, output_directory)\n"
      ],
      "metadata": {
        "colab": {
          "base_uri": "https://localhost:8080/"
        },
        "id": "bVTa03NsGSrF",
        "outputId": "86ab672f-0e12-4bca-a7eb-38ec5a397397"
      },
      "execution_count": 15,
      "outputs": [
        {
          "output_type": "stream",
          "name": "stdout",
          "text": [
            "Selected images saved to '/content/Dataset_Selected' for ages up to 80.\n"
          ]
        }
      ]
    },
    {
      "cell_type": "code",
      "source": [
        "dataset_path = '/content/Dataset_Selected'  # Change this to your dataset folder\n",
        "# Extract age labels from filenames\n",
        "ages = [int(fname.split('_')[1]) for fname in os.listdir(dataset_path) if fname.endswith('.jpg')]\n",
        "print(f\"Ages shape: {len(ages)}\")"
      ],
      "metadata": {
        "colab": {
          "base_uri": "https://localhost:8080/"
        },
        "id": "DiDr5gYGJAdB",
        "outputId": "c380fb56-282f-4386-ad96-058ea36e5fb3"
      },
      "execution_count": 17,
      "outputs": [
        {
          "output_type": "stream",
          "name": "stdout",
          "text": [
            "Ages shape: 10257\n"
          ]
        }
      ]
    },
    {
      "cell_type": "code",
      "source": [
        "# Check the distribution of ages\n",
        "age_counts = pd.Series(ages).value_counts()\n",
        "print(\"Age distribution:\\n\", age_counts)"
      ],
      "metadata": {
        "colab": {
          "base_uri": "https://localhost:8080/"
        },
        "id": "ooBwnc50JUQB",
        "outputId": "d20c2b28-8a44-4494-8d24-5ce4fec02a58"
      },
      "execution_count": 18,
      "outputs": [
        {
          "output_type": "stream",
          "name": "stdout",
          "text": [
            "Age distribution:\n",
            " 53    130\n",
            "4     130\n",
            "1     130\n",
            "20    130\n",
            "37    130\n",
            "     ... \n",
            "6     122\n",
            "12    120\n",
            "13     97\n",
            "79     92\n",
            "11     83\n",
            "Name: count, Length: 80, dtype: int64\n"
          ]
        }
      ]
    },
    {
      "cell_type": "code",
      "source": [
        "import matplotlib.pyplot as plt\n",
        "\n",
        "# Function to plot age distribution\n",
        "def plot_age_distribution(age_counts):\n",
        "    # Create a bar plot\n",
        "    plt.figure(figsize=(20, 6))\n",
        "\n",
        "    # Define the x-axis positions\n",
        "    ages = list(age_counts.index)  # Get the age labels from the index\n",
        "    counts = age_counts.values  # Get the corresponding counts\n",
        "\n",
        "    # Create the bar plot\n",
        "    plt.bar(ages, counts, color='b', alpha=0.7)\n",
        "\n",
        "    # Adding labels and title\n",
        "    plt.xlabel('Ages')\n",
        "    plt.ylabel('Number of Images')\n",
        "    plt.title('Image Count Distribution by Age')\n",
        "    plt.xticks(ages)  # Set x-ticks to show all ages\n",
        "\n",
        "    # Show the plot\n",
        "    plt.tight_layout()\n",
        "    plt.show()\n",
        "\n",
        "# Example usage\n",
        "# Assuming age_counts is a Pandas Series containing the count of images for each age\n",
        "age_counts = pd.Series(ages).value_counts().sort_index()  # Replace with your actual age counts\n",
        "plot_age_distribution(age_counts)\n"
      ],
      "metadata": {
        "colab": {
          "base_uri": "https://localhost:8080/",
          "height": 241
        },
        "id": "l2NNR7Y-J749",
        "outputId": "b1e893eb-42c0-4fe6-bb37-1cc8a5f3c43e"
      },
      "execution_count": 20,
      "outputs": [
        {
          "output_type": "display_data",
          "data": {
            "text/plain": [
              "<Figure size 2000x600 with 1 Axes>"
            ],
            "image/png": "[encoded data removed]"
          },
          "metadata": {}
        }
      ]
    },
    {
      "cell_type": "code",
      "source": [
        "dataset_dir = '/content/Dataset_Selected'\n",
        "# Get the list of all image file paths\n",
        "\n",
        "image_paths = [os.path.join(dataset_dir, fname) for fname in os.listdir(dataset_dir) if fname.endswith('.jpg')]\n",
        "print(f\"Images shape: {len(image_paths)}\")"
      ],
      "metadata": {
        "colab": {
          "base_uri": "https://localhost:8080/"
        },
        "id": "npuKGV1vLEoN",
        "outputId": "5f0b8d1d-a515-49bf-b723-6e998a7c655a"
      },
      "execution_count": 21,
      "outputs": [
        {
          "output_type": "stream",
          "name": "stdout",
          "text": [
            "Images shape: 10257\n"
          ]
        }
      ]
    },
    {
      "cell_type": "code",
      "source": [
        "dataset_path = '/content/Dataset_Selected'  # Change this to your dataset folder\n",
        "# Extract age labels from filenames\n",
        "ages = [int(fname.split('_')[1]) for fname in os.listdir(dataset_path) if fname.endswith('.jpg')]\n",
        "print(f\"Ages shape: {len(ages)}\")"
      ],
      "metadata": {
        "colab": {
          "base_uri": "https://localhost:8080/"
        },
        "id": "xfU5__CqLKnA",
        "outputId": "e6c299cf-c458-4362-ee3c-7c1320942de7"
      },
      "execution_count": 22,
      "outputs": [
        {
          "output_type": "stream",
          "name": "stdout",
          "text": [
            "Ages shape: 10257\n"
          ]
        }
      ]
    },
    {
      "cell_type": "code",
      "source": [
        "# Create a DataFrame from your image paths and ages\n",
        "data = pd.DataFrame({'image_path': image_paths, 'age': ages})\n",
        "data.head()"
      ],
      "metadata": {
        "colab": {
          "base_uri": "https://localhost:8080/",
          "height": 206
        },
        "id": "wQPH0KwuK8Pl",
        "outputId": "430252bc-ea7b-4f64-8975-09b97477b35d"
      },
      "execution_count": 24,
      "outputs": [
        {
          "output_type": "execute_result",
          "data": {
            "text/plain": [
              "                                          image_path  age\n",
              "0  /content/Dataset_Selected/age_53_53_0_0_201701...   53\n",
              "1  /content/Dataset_Selected/age_19_76_PaulAnka_1...   19\n",
              "2  /content/Dataset_Selected/age_45_2468_ClaudeRi...   45\n",
              "3  /content/Dataset_Selected/age_14_14_0_0_201701...   14\n",
              "4  /content/Dataset_Selected/age_67_2946_ScottGle...   67"
            ],
            "text/html": [
              "\n",
              "  <div id=\"df-a9fd6256-44ce-43b3-8e70-f3f1d69cb145\" class=\"colab-df-container\">\n",
              "    <div>\n",
              "<style scoped>\n",
              "    .dataframe tbody tr th:only-of-type {\n",
              "        vertical-align: middle;\n",
              "    }\n",
              "\n",
              "    .dataframe tbody tr th {\n",
              "        vertical-align: top;\n",
              "    }\n",
              "\n",
              "    .dataframe thead th {\n",
              "        text-align: right;\n",
              "    }\n",
              "</style>\n",
              "<table border=\"1\" class=\"dataframe\">\n",
              "  <thead>\n",
              "    <tr style=\"text-align: right;\">\n",
              "      <th></th>\n",
              "      <th>image_path</th>\n",
              "      <th>age</th>\n",
              "    </tr>\n",
              "  </thead>\n",
              "  <tbody>\n",
              "    <tr>\n",
              "      <th>0</th>\n",
              "      <td>/content/Dataset_Selected/age_53_53_0_0_201701...</td>\n",
              "      <td>53</td>\n",
              "    </tr>\n",
              "    <tr>\n",
              "      <th>1</th>\n",
              "      <td>/content/Dataset_Selected/age_19_76_PaulAnka_1...</td>\n",
              "      <td>19</td>\n",
              "    </tr>\n",
              "    <tr>\n",
              "      <th>2</th>\n",
              "      <td>/content/Dataset_Selected/age_45_2468_ClaudeRi...</td>\n",
              "      <td>45</td>\n",
              "    </tr>\n",
              "    <tr>\n",
              "      <th>3</th>\n",
              "      <td>/content/Dataset_Selected/age_14_14_0_0_201701...</td>\n",
              "      <td>14</td>\n",
              "    </tr>\n",
              "    <tr>\n",
              "      <th>4</th>\n",
              "      <td>/content/Dataset_Selected/age_67_2946_ScottGle...</td>\n",
              "      <td>67</td>\n",
              "    </tr>\n",
              "  </tbody>\n",
              "</table>\n",
              "</div>\n",
              "    <div class=\"colab-df-buttons\">\n",
              "\n",
              "  <div class=\"colab-df-container\">\n",
              "    <button class=\"colab-df-convert\" onclick=\"convertToInteractive('df-a9fd6256-44ce-43b3-8e70-f3f1d69cb145')\"\n",
              "            title=\"Convert this dataframe to an interactive table.\"\n",
              "            style=\"display:none;\">\n",
              "\n",
              "  <svg xmlns=\"http://www.w3.org/2000/svg\" height=\"24px\" viewBox=\"0 -960 960 960\">\n",
              "    <path d=\"M120-120v-720h720v720H120Zm60-500h600v-160H180v160Zm220 220h160v-160H400v160Zm0 220h160v-160H400v160ZM180-400h160v-160H180v160Zm440 0h160v-160H620v160ZM180-180h160v-160H180v160Zm440 0h160v-160H620v160Z\"/>\n",
              "  </svg>\n",
              "    </button>\n",
              "\n",
              "  <style>\n",
              "    .colab-df-container {\n",
              "      display:flex;\n",
              "      gap: 12px;\n",
              "    }\n",
              "\n",
              "    .colab-df-convert {\n",
              "      background-color: #E8F0FE;\n",
              "      border: none;\n",
              "      border-radius: 50%;\n",
              "      cursor: pointer;\n",
              "      display: none;\n",
              "      fill: #1967D2;\n",
              "      height: 32px;\n",
              "      padding: 0 0 0 0;\n",
              "      width: 32px;\n",
              "    }\n",
              "\n",
              "    .colab-df-convert:hover {\n",
              "      background-color: #E2EBFA;\n",
              "      box-shadow: 0px 1px 2px rgba(60, 64, 67, 0.3), 0px 1px 3px 1px rgba(60, 64, 67, 0.15);\n",
              "      fill: #174EA6;\n",
              "    }\n",
              "\n",
              "    .colab-df-buttons div {\n",
              "      margin-bottom: 4px;\n",
              "    }\n",
              "\n",
              "    [theme=dark] .colab-df-convert {\n",
              "      background-color: #3B4455;\n",
              "      fill: #D2E3FC;\n",
              "    }\n",
              "\n",
              "    [theme=dark] .colab-df-convert:hover {\n",
              "      background-color: #434B5C;\n",
              "      box-shadow: 0px 1px 3px 1px rgba(0, 0, 0, 0.15);\n",
              "      filter: drop-shadow(0px 1px 2px rgba(0, 0, 0, 0.3));\n",
              "      fill: #FFFFFF;\n",
              "    }\n",
              "  </style>\n",
              "\n",
              "    <script>\n",
              "      const buttonEl =\n",
              "        document.querySelector('#df-a9fd6256-44ce-43b3-8e70-f3f1d69cb145 button.colab-df-convert');\n",
              "      buttonEl.style.display =\n",
              "        google.colab.kernel.accessAllowed ? 'block' : 'none';\n",
              "\n",
              "      async function convertToInteractive(key) {\n",
              "        const element = document.querySelector('#df-a9fd6256-44ce-43b3-8e70-f3f1d69cb145');\n",
              "        const dataTable =\n",
              "          await google.colab.kernel.invokeFunction('convertToInteractive',\n",
              "                                                    [key], {});\n",
              "        if (!dataTable) return;\n",
              "\n",
              "        const docLinkHtml = 'Like what you see? Visit the ' +\n",
              "          '<a target=\"_blank\" href=https://colab.research.google.com/notebooks/data_table.ipynb>data table notebook</a>'\n",
              "          + ' to learn more about interactive tables.';\n",
              "        element.innerHTML = '';\n",
              "        dataTable['output_type'] = 'display_data';\n",
              "        await google.colab.output.renderOutput(dataTable, element);\n",
              "        const docLink = document.createElement('div');\n",
              "        docLink.innerHTML = docLinkHtml;\n",
              "        element.appendChild(docLink);\n",
              "      }\n",
              "    </script>\n",
              "  </div>\n",
              "\n",
              "\n",
              "<div id=\"df-7a40b19d-3552-4126-910f-c9daf8ff4c75\">\n",
              "  <button class=\"colab-df-quickchart\" onclick=\"quickchart('df-7a40b19d-3552-4126-910f-c9daf8ff4c75')\"\n",
              "            title=\"Suggest charts\"\n",
              "            style=\"display:none;\">\n",
              "\n",
              "<svg xmlns=\"http://www.w3.org/2000/svg\" height=\"24px\"viewBox=\"0 0 24 24\"\n",
              "     width=\"24px\">\n",
              "    <g>\n",
              "        <path d=\"M19 3H5c-1.1 0-2 .9-2 2v14c0 1.1.9 2 2 2h14c1.1 0 2-.9 2-2V5c0-1.1-.9-2-2-2zM9 17H7v-7h2v7zm4 0h-2V7h2v10zm4 0h-2v-4h2v4z\"/>\n",
              "    </g>\n",
              "</svg>\n",
              "  </button>\n",
              "\n",
              "<style>\n",
              "  .colab-df-quickchart {\n",
              "      --bg-color: #E8F0FE;\n",
              "      --fill-color: #1967D2;\n",
              "      --hover-bg-color: #E2EBFA;\n",
              "      --hover-fill-color: #174EA6;\n",
              "      --disabled-fill-color: #AAA;\n",
              "      --disabled-bg-color: #DDD;\n",
              "  }\n",
              "\n",
              "  [theme=dark] .colab-df-quickchart {\n",
              "      --bg-color: #3B4455;\n",
              "      --fill-color: #D2E3FC;\n",
              "      --hover-bg-color: #434B5C;\n",
              "      --hover-fill-color: #FFFFFF;\n",
              "      --disabled-bg-color: #3B4455;\n",
              "      --disabled-fill-color: #666;\n",
              "  }\n",
              "\n",
              "  .colab-df-quickchart {\n",
              "    background-color: var(--bg-color);\n",
              "    border: none;\n",
              "    border-radius: 50%;\n",
              "    cursor: pointer;\n",
              "    display: none;\n",
              "    fill: var(--fill-color);\n",
              "    height: 32px;\n",
              "    padding: 0;\n",
              "    width: 32px;\n",
              "  }\n",
              "\n",
              "  .colab-df-quickchart:hover {\n",
              "    background-color: var(--hover-bg-color);\n",
              "    box-shadow: 0 1px 2px rgba(60, 64, 67, 0.3), 0 1px 3px 1px rgba(60, 64, 67, 0.15);\n",
              "    fill: var(--button-hover-fill-color);\n",
              "  }\n",
              "\n",
              "  .colab-df-quickchart-complete:disabled,\n",
              "  .colab-df-quickchart-complete:disabled:hover {\n",
              "    background-color: var(--disabled-bg-color);\n",
              "    fill: var(--disabled-fill-color);\n",
              "    box-shadow: none;\n",
              "  }\n",
              "\n",
              "  .colab-df-spinner {\n",
              "    border: 2px solid var(--fill-color);\n",
              "    border-color: transparent;\n",
              "    border-bottom-color: var(--fill-color);\n",
              "    animation:\n",
              "      spin 1s steps(1) infinite;\n",
              "  }\n",
              "\n",
              "  @keyframes spin {\n",
              "    0% {\n",
              "      border-color: transparent;\n",
              "      border-bottom-color: var(--fill-color);\n",
              "      border-left-color: var(--fill-color);\n",
              "    }\n",
              "    20% {\n",
              "      border-color: transparent;\n",
              "      border-left-color: var(--fill-color);\n",
              "      border-top-color: var(--fill-color);\n",
              "    }\n",
              "    30% {\n",
              "      border-color: transparent;\n",
              "      border-left-color: var(--fill-color);\n",
              "      border-top-color: var(--fill-color);\n",
              "      border-right-color: var(--fill-color);\n",
              "    }\n",
              "    40% {\n",
              "      border-color: transparent;\n",
              "      border-right-color: var(--fill-color);\n",
              "      border-top-color: var(--fill-color);\n",
              "    }\n",
              "    60% {\n",
              "      border-color: transparent;\n",
              "      border-right-color: var(--fill-color);\n",
              "    }\n",
              "    80% {\n",
              "      border-color: transparent;\n",
              "      border-right-color: var(--fill-color);\n",
              "      border-bottom-color: var(--fill-color);\n",
              "    }\n",
              "    90% {\n",
              "      border-color: transparent;\n",
              "      border-bottom-color: var(--fill-color);\n",
              "    }\n",
              "  }\n",
              "</style>\n",
              "\n",
              "  <script>\n",
              "    async function quickchart(key) {\n",
              "      const quickchartButtonEl =\n",
              "        document.querySelector('#' + key + ' button');\n",
              "      quickchartButtonEl.disabled = true;  // To prevent multiple clicks.\n",
              "      quickchartButtonEl.classList.add('colab-df-spinner');\n",
              "      try {\n",
              "        const charts = await google.colab.kernel.invokeFunction(\n",
              "            'suggestCharts', [key], {});\n",
              "      } catch (error) {\n",
              "        console.error('Error during call to suggestCharts:', error);\n",
              "      }\n",
              "      quickchartButtonEl.classList.remove('colab-df-spinner');\n",
              "      quickchartButtonEl.classList.add('colab-df-quickchart-complete');\n",
              "    }\n",
              "    (() => {\n",
              "      let quickchartButtonEl =\n",
              "        document.querySelector('#df-7a40b19d-3552-4126-910f-c9daf8ff4c75 button');\n",
              "      quickchartButtonEl.style.display =\n",
              "        google.colab.kernel.accessAllowed ? 'block' : 'none';\n",
              "    })();\n",
              "  </script>\n",
              "</div>\n",
              "\n",
              "    </div>\n",
              "  </div>\n"
            ],
            "application/vnd.google.colaboratory.intrinsic+json": {
              "type": "dataframe",
              "variable_name": "data",
              "summary": "{\n  \"name\": \"data\",\n  \"rows\": 10257,\n  \"fields\": [\n    {\n      \"column\": \"image_path\",\n      \"properties\": {\n        \"dtype\": \"string\",\n        \"num_unique_values\": 10257,\n        \"samples\": [\n          \"/content/Dataset_Selected/age_69_502_motherTereza_69_f.jpg\",\n          \"/content/Dataset_Selected/age_70_4775_MichelPiccoli_70_m.jpg\",\n          \"/content/Dataset_Selected/age_26_26_0_2_20170104022540590.jpg.chip.jpg\"\n        ],\n        \"semantic_type\": \"\",\n        \"description\": \"\"\n      }\n    },\n    {\n      \"column\": \"age\",\n      \"properties\": {\n        \"dtype\": \"number\",\n        \"std\": 22,\n        \"min\": 1,\n        \"max\": 80,\n        \"num_unique_values\": 80,\n        \"samples\": [\n          34,\n          53,\n          61\n        ],\n        \"semantic_type\": \"\",\n        \"description\": \"\"\n      }\n    }\n  ]\n}"
            }
          },
          "metadata": {},
          "execution_count": 24
        }
      ]
    },
    {
      "cell_type": "code",
      "source": [
        "# Split the dataset into training and testing sets\n",
        "train_data, test_data = train_test_split(\n",
        "    data,\n",
        "    test_size=0.2,  # 20% for testing\n",
        "    stratify=data['age'],  # Stratified split based on age\n",
        "    random_state=42  # For reproducibility\n",
        ")"
      ],
      "metadata": {
        "id": "r1LyGt4nLYCS"
      },
      "execution_count": 25,
      "outputs": []
    },
    {
      "cell_type": "code",
      "source": [
        "# Print the age distribution in train and test sets\n",
        "print(\"Training set age distribution:\")\n",
        "print(train_data['age'].value_counts())\n",
        "print(\"\\nTesting set age distribution:\")\n",
        "print(test_data['age'].value_counts())"
      ],
      "metadata": {
        "colab": {
          "base_uri": "https://localhost:8080/"
        },
        "id": "no47wI-ILdUI",
        "outputId": "f06bb13a-8b4e-41c1-f2e1-1258bc6e7b8c"
      },
      "execution_count": 26,
      "outputs": [
        {
          "output_type": "stream",
          "name": "stdout",
          "text": [
            "Training set age distribution:\n",
            "age\n",
            "10    104\n",
            "15    104\n",
            "2     104\n",
            "66    104\n",
            "62    104\n",
            "     ... \n",
            "6      97\n",
            "12     96\n",
            "13     78\n",
            "79     74\n",
            "11     66\n",
            "Name: count, Length: 80, dtype: int64\n",
            "\n",
            "Testing set age distribution:\n",
            "age\n",
            "66    26\n",
            "50    26\n",
            "7     26\n",
            "14    26\n",
            "5     26\n",
            "      ..\n",
            "77    25\n",
            "12    24\n",
            "13    19\n",
            "79    18\n",
            "11    17\n",
            "Name: count, Length: 80, dtype: int64\n"
          ]
        }
      ]
    },
    {
      "cell_type": "code",
      "source": [
        "def process_and_split_dataset(dataset_path, output_path, resize_dim=(224, 224), test_size=0.2):\n",
        "  # Create output directories for training and testing\n",
        "    train_dir = os.path.join(output_path, 'train')\n",
        "    test_dir = os.path.join(output_path, 'test')\n",
        "    os.makedirs(train_dir, exist_ok=True)\n",
        "    os.makedirs(test_dir, exist_ok=True)\n",
        "\n",
        "    # Split the dataset into training and testing sets\n",
        "    train_images, test_images, train_labels, test_labels = train_test_split(\n",
        "        image_paths, ages,stratify=data['age'], test_size=test_size, random_state=42\n",
        "    )\n",
        "\n",
        "\n",
        "  # Save training images and create train CSV\n",
        "    train_data = []\n",
        "    for img_path, label in zip(train_images, train_labels):\n",
        "        try:\n",
        "            img = Image.open(img_path)  # Open the image\n",
        "            img.save(os.path.join(train_dir, os.path.basename(img_path)))  # Save image to train folder\n",
        "            train_data.append({'filepath': os.path.join(train_dir, os.path.basename(img_path)), 'age': label})  # Full path\n",
        "        except Exception as e:\n",
        "            print(f\"Error processing {img_path}: {e}\")\n",
        "\n",
        "    train_df = pd.DataFrame(train_data)\n",
        "    train_df.to_csv(os.path.join(output_path, 'train_labels.csv'), index=False)\n",
        "\n",
        "    # Save testing images and create test CSV\n",
        "    test_data = []\n",
        "    for img_path, label in zip(test_images, test_labels):\n",
        "        try:\n",
        "            img = Image.open(img_path)  # Open the image\n",
        "            img.save(os.path.join(test_dir, os.path.basename(img_path)))  # Save image to test folder\n",
        "            test_data.append({'filepath': os.path.join(test_dir, os.path.basename(img_path)), 'age': label})  # Full path\n",
        "        except Exception as e:\n",
        "            print(f\"Error processing {img_path}: {e}\")\n",
        "\n",
        "    test_df = pd.DataFrame(test_data)\n",
        "    test_df.to_csv(os.path.join(output_path, 'test_labels.csv'), index=False)\n",
        "\n",
        "\n",
        "    print(f\"Dataset processed and split into '{train_dir}' and '{test_dir}' with labels saved as CSV.\")"
      ],
      "metadata": {
        "id": "BbJDFpyIL29P"
      },
      "execution_count": 27,
      "outputs": []
    },
    {
      "cell_type": "code",
      "source": [
        "# Example usage\n",
        "filepath = '/content/combinedData'\n",
        "output_path = '/content/combinedData/combinedData'   # Change this to your output folder\n",
        "process_and_split_dataset(dataset_path, output_path)"
      ],
      "metadata": {
        "colab": {
          "base_uri": "https://localhost:8080/"
        },
        "id": "ywSzU0gAM8HI",
        "outputId": "daba16cf-b324-437a-e8f6-a82201430bda"
      },
      "execution_count": 28,
      "outputs": [
        {
          "output_type": "stream",
          "name": "stdout",
          "text": [
            "Dataset processed and split into '/content/combinedData/combinedData/train' and '/content/combinedData/combinedData/test' with labels saved as CSV.\n"
          ]
        }
      ]
    },
    {
      "cell_type": "code",
      "source": [
        "import shutil\n",
        "\n",
        "# Path to the output folder where 'train' and 'test' directories are created\n",
        "output_path = '/content/combinedData'  # Change this to your output folder path\n",
        "shutil.make_archive(output_path, 'zip', output_path)\n",
        "\n",
        "from google.colab import files\n",
        "files.download(output_path + '.zip')  # Download the zip file"
      ],
      "metadata": {
        "colab": {
          "base_uri": "https://localhost:8080/",
          "height": 17
        },
        "id": "incs5G1HO0kE",
        "outputId": "93c29f51-a269-4080-f585-0198d58c776c"
      },
      "execution_count": 29,
      "outputs": [
        {
          "output_type": "display_data",
          "data": {
            "text/plain": [
              "<IPython.core.display.Javascript object>"
            ],
            "application/javascript": [
              "\n",
              "    async function download(id, filename, size) {\n",
              "      if (!google.colab.kernel.accessAllowed) {\n",
              "        return;\n",
              "      }\n",
              "      const div = document.createElement('div');\n",
              "      const label = document.createElement('label');\n",
              "      label.textContent = `Downloading \"${filename}\": `;\n",
              "      div.appendChild(label);\n",
              "      const progress = document.createElement('progress');\n",
              "      progress.max = size;\n",
              "      div.appendChild(progress);\n",
              "      document.body.appendChild(div);\n",
              "\n",
              "      const buffers = [];\n",
              "      let downloaded = 0;\n",
              "\n",
              "      const channel = await google.colab.kernel.comms.open(id);\n",
              "      // Send a message to notify the kernel that we're ready.\n",
              "      channel.send({})\n",
              "\n",
              "      for await (const message of channel.messages) {\n",
              "        // Send a message to notify the kernel that we're ready.\n",
              "        channel.send({})\n",
              "        if (message.buffers) {\n",
              "          for (const buffer of message.buffers) {\n",
              "            buffers.push(buffer);\n",
              "            downloaded += buffer.byteLength;\n",
              "            progress.value = downloaded;\n",
              "          }\n",
              "        }\n",
              "      }\n",
              "      const blob = new Blob(buffers, {type: 'application/binary'});\n",
              "      const a = document.createElement('a');\n",
              "      a.href = window.URL.createObjectURL(blob);\n",
              "      a.download = filename;\n",
              "      div.appendChild(a);\n",
              "      a.click();\n",
              "      div.remove();\n",
              "    }\n",
              "  "
            ]
          },
          "metadata": {}
        },
        {
          "output_type": "display_data",
          "data": {
            "text/plain": [
              "<IPython.core.display.Javascript object>"
            ],
            "application/javascript": [
              "download(\"download_3c260057-27d3-4564-800d-8a6dc6ed817b\", \"combinedData.zip\", 66117032)"
            ]
          },
          "metadata": {}
        }
      ]
    }
  ]
}