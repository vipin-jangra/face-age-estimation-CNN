{
  "nbformat": 4,
  "nbformat_minor": 0,
  "metadata": {
    "colab": {
      "provenance": [],
      "authorship_tag": "ABX9TyM7D8yLB4R/opDU1iUxZBEi",
      "include_colab_link": true
    },
    "kernelspec": {
      "name": "python3",
      "display_name": "Python 3"
    },
    "language_info": {
      "name": "python"
    }
  },
  "cells": [
    {
      "cell_type": "markdown",
      "metadata": {
        "id": "view-in-github",
        "colab_type": "text"
      },
      "source": [
        "<a href=\"https://colab.research.google.com/github/vipin-jangra/face-age-estimation-CNN/blob/main/Combined_Dataset.ipynb\" target=\"_parent\"><img src=\"https://colab.research.google.com/assets/colab-badge.svg\" alt=\"Open In Colab\"/></a>"
      ]
    },
    {
      "cell_type": "code",
      "source": [
        "import os\n",
        "from zipfile import ZipFile\n",
        "import shutil\n",
        "import pandas as pd\n",
        "from PIL import Image\n",
        "from sklearn.model_selection import train_test_split"
      ],
      "metadata": {
        "id": "QlFiF1d8ufps"
      },
      "execution_count": 1,
      "outputs": []
    },
    {
      "cell_type": "code",
      "source": [
        "from google.colab import drive\n",
        "\n",
        "drive.mount('/content/drive')"
      ],
      "metadata": {
        "colab": {
          "base_uri": "https://localhost:8080/"
        },
        "id": "IWcs6_iTtBdc",
        "outputId": "c758cb96-1b28-4320-8a85-2379240f4648"
      },
      "execution_count": 2,
      "outputs": [
        {
          "output_type": "stream",
          "name": "stdout",
          "text": [
            "Mounted at /content/drive\n"
          ]
        }
      ]
    },
    {
      "cell_type": "code",
      "source": [
        "#Unzipping the UTK dataset file combined_faces.zip\n",
        "\n",
        "faces_zip_path = \"/content/drive/MyDrive/Dataset/Dataset2/crop_part1.zip\";\n",
        "\n",
        "with ZipFile(faces_zip_path, 'r') as myzip:\n",
        "    myzip.extractall()\n",
        "    print('Done unzipping faces.zip')"
      ],
      "metadata": {
        "colab": {
          "base_uri": "https://localhost:8080/"
        },
        "id": "IS1-TtTS9WrD",
        "outputId": "6abbefb9-d647-4cf1-cfa1-4babadbe7001"
      },
      "execution_count": 22,
      "outputs": [
        {
          "output_type": "stream",
          "name": "stdout",
          "text": [
            "Done unzipping faces.zip\n"
          ]
        }
      ]
    },
    {
      "cell_type": "code",
      "source": [
        "#Unzipping the AGE DB dataset file combined_faces.zip\n",
        "\n",
        "faces_zip_path = \"/content/drive/MyDrive/Dataset/Dataset2/AGEDB_dataset.zip\";\n",
        "\n",
        "with ZipFile(faces_zip_path, 'r') as myzip:\n",
        "    myzip.extractall()\n",
        "    print('Done unzipping faces.zip')"
      ],
      "metadata": {
        "colab": {
          "base_uri": "https://localhost:8080/"
        },
        "id": "-w581L5mukUU",
        "outputId": "34402f35-ab57-43fa-9d94-b023d907d7a2"
      },
      "execution_count": 3,
      "outputs": [
        {
          "output_type": "stream",
          "name": "stdout",
          "text": [
            "Done unzipping faces.zip\n"
          ]
        }
      ]
    },
    {
      "cell_type": "markdown",
      "source": [
        "AGEDB IMAGE PATHS AND AGES"
      ],
      "metadata": {
        "id": "vXeOBtpI-C1_"
      }
    },
    {
      "cell_type": "code",
      "source": [
        "dataset_dir = '/content/AgeDB'\n",
        "# Get the list of all image file paths\n",
        "\n",
        "image_paths = [os.path.join(dataset_dir, fname) for fname in os.listdir(dataset_dir) if fname.endswith('.jpg')]\n",
        "print(f\"Images shape: {len(image_paths)}\")"
      ],
      "metadata": {
        "colab": {
          "base_uri": "https://localhost:8080/"
        },
        "id": "CiBDSaj2x3Ky",
        "outputId": "3d158631-76a2-40a8-a3f4-c63c03870709"
      },
      "execution_count": 13,
      "outputs": [
        {
          "output_type": "stream",
          "name": "stdout",
          "text": [
            "Images shape: 16488\n"
          ]
        }
      ]
    },
    {
      "cell_type": "code",
      "source": [
        "dataset_path = '/content/AgeDB'  # Change this to your dataset folder\n",
        "# Extract age labels from filenames\n",
        "ages = [int(fname.split('_')[2]) for fname in os.listdir(dataset_path) if fname.endswith('.jpg')]\n",
        "print(f\"Ages shape: {len(ages)}\")"
      ],
      "metadata": {
        "colab": {
          "base_uri": "https://localhost:8080/"
        },
        "id": "lyJQccQkw-Ge",
        "outputId": "8634762f-bda7-40f0-cd6b-ea078c7b7ae3"
      },
      "execution_count": 14,
      "outputs": [
        {
          "output_type": "stream",
          "name": "stdout",
          "text": [
            "Ages shape: 16488\n"
          ]
        }
      ]
    },
    {
      "cell_type": "markdown",
      "source": [
        "UTK DATASET IMAGE PATHS AND AGES"
      ],
      "metadata": {
        "id": "y2kJt8u292mE"
      }
    },
    {
      "cell_type": "code",
      "source": [
        "dataset_dir = '/content/crop_part1'\n",
        "# Get the list of all image file paths\n",
        "\n",
        "UTK_image_paths = [os.path.join(dataset_dir, fname) for fname in os.listdir(dataset_dir) if fname.endswith('.jpg')]\n",
        "print(f\"Images shape: {len(image_paths)}\")"
      ],
      "metadata": {
        "colab": {
          "base_uri": "https://localhost:8080/"
        },
        "outputId": "65279e6c-4c2a-4237-8dfe-7d25e6579c73",
        "id": "xzKSfM8h91Wz"
      },
      "execution_count": 23,
      "outputs": [
        {
          "output_type": "stream",
          "name": "stdout",
          "text": [
            "Images shape: 16488\n"
          ]
        }
      ]
    },
    {
      "cell_type": "code",
      "source": [
        "dataset_path = '/content/crop_part1'  # Change this to your dataset folder\n",
        "# Extract age labels from filenames\n",
        "UTK_ages = [int(fname.split('_')[0]) for fname in os.listdir(dataset_path) if fname.endswith('.jpg')]\n",
        "print(f\"Ages shape: {len(ages)}\")"
      ],
      "metadata": {
        "colab": {
          "base_uri": "https://localhost:8080/"
        },
        "outputId": "4ff55187-e225-4355-cd63-000edd83f83f",
        "id": "hRFIECsF91W0"
      },
      "execution_count": 24,
      "outputs": [
        {
          "output_type": "stream",
          "name": "stdout",
          "text": [
            "Ages shape: 16488\n"
          ]
        }
      ]
    },
    {
      "cell_type": "code",
      "source": [
        "def preprocess_image(output_path, image_list, age_list,resize_dim=(224, 224)):\n",
        "  # Create output directories for training and testing\n",
        "    data_dir = os.path.join(output_path, 'Dataset')\n",
        "\n",
        "   # Check if the output directory exists; create it if it doesn't\n",
        "    if not os.path.exists(data_dir):\n",
        "        os.makedirs(data_dir)\n",
        "        print(f\"Created new directory: {data_dir}\")\n",
        "    else:\n",
        "        print(f\"Directory already exists: {data_dir}. Adding images to it.\")\n",
        "\n",
        "  # Preprocess and resize images\n",
        "    processed_images = []\n",
        "    for img_path,label in zip(image_list,age_list):\n",
        "        try:\n",
        "            img = Image.open(img_path)  # Open the image\n",
        "            img = img.convert('L')  # Convert to grayscale\n",
        "            img = img.resize(resize_dim)  # Resize image\n",
        "\n",
        "            # Create new filename with 'age_' prefix\n",
        "            new_filename = f\"age_{label}_{os.path.basename(img_path)}\"\n",
        "            img.save(os.path.join(data_dir, new_filename))  # Save image to train folder\n",
        "\n",
        "\n",
        "        except Exception as e:\n",
        "            print(f\"Error processing {img_path}: {e}\")"
      ],
      "metadata": {
        "id": "K1aSY5gg5Msz"
      },
      "execution_count": 28,
      "outputs": []
    },
    {
      "cell_type": "code",
      "source": [
        "#for agedb dataset\n",
        "output_path = '/content/Combined_Dataset'   # Change this to your output folder\n",
        "preprocess_image(output_path, image_paths, ages)"
      ],
      "metadata": {
        "id": "M22H0sxF8Nut"
      },
      "execution_count": 21,
      "outputs": []
    },
    {
      "cell_type": "code",
      "source": [
        "#for UTK dataset\n",
        "output_path = '/content/Combined_Dataset'   # Change this to your output folder\n",
        "preprocess_image(output_path, UTK_image_paths, UTK_ages)"
      ],
      "metadata": {
        "colab": {
          "base_uri": "https://localhost:8080/"
        },
        "id": "Z_TC3w_u-nJJ",
        "outputId": "4c5083d5-173b-4f5b-9634-7f789c0b952d"
      },
      "execution_count": 29,
      "outputs": [
        {
          "output_type": "stream",
          "name": "stdout",
          "text": [
            "Directory already exists: /content/Combined_Dataset/Dataset. Adding images to it.\n"
          ]
        }
      ]
    },
    {
      "cell_type": "code",
      "source": [
        "dataset_path = '/content/Combined_Dataset/Dataset'  # Change this to your dataset folder\n",
        "# Extract age labels from filenames\n",
        "combined_ages = [int(fname.split('_')[1]) for fname in os.listdir(dataset_path) if fname.endswith('.jpg')]\n",
        "print(f\"Ages shape: {len(ages)}\")"
      ],
      "metadata": {
        "colab": {
          "base_uri": "https://localhost:8080/"
        },
        "id": "qyLGEgWf_gzx",
        "outputId": "b3273166-b702-4ba4-e265-25f8eaf9b482"
      },
      "execution_count": 33,
      "outputs": [
        {
          "output_type": "stream",
          "name": "stdout",
          "text": [
            "Ages shape: 16488\n"
          ]
        }
      ]
    },
    {
      "cell_type": "code",
      "source": [
        "# Check the distribution of ages\n",
        "age_counts = pd.Series(combined_ages).value_counts()\n",
        "print(\"Age distribution:\\n\", age_counts)"
      ],
      "metadata": {
        "colab": {
          "base_uri": "https://localhost:8080/"
        },
        "id": "cwn-UthH0tsU",
        "outputId": "45511419-9274-477b-add0-efef30b4e57a"
      },
      "execution_count": 35,
      "outputs": [
        {
          "output_type": "stream",
          "name": "stdout",
          "text": [
            "Age distribution:\n",
            " 1      1113\n",
            "26      554\n",
            "35      534\n",
            "32      519\n",
            "30      494\n",
            "       ... \n",
            "99        3\n",
            "98        2\n",
            "110       2\n",
            "101       2\n",
            "97        1\n",
            "Name: count, Length: 102, dtype: int64\n"
          ]
        }
      ]
    },
    {
      "cell_type": "code",
      "source": [
        "import shutil\n",
        "\n",
        "# Path to the output folder where 'train' and 'test' directories are created\n",
        "output_path = '/content/Combined_Dataset'  # Change this to your output folder path\n",
        "shutil.make_archive(output_path, 'zip', output_path)\n",
        "\n",
        "from google.colab import files\n",
        "files.download(output_path + '.zip')  # Download the zip file\n"
      ],
      "metadata": {
        "colab": {
          "base_uri": "https://localhost:8080/",
          "height": 17
        },
        "id": "Y9Yvpujz1rts",
        "outputId": "78fc3464-6322-4f8b-d544-328d23a95824"
      },
      "execution_count": 32,
      "outputs": [
        {
          "output_type": "display_data",
          "data": {
            "text/plain": [
              "<IPython.core.display.Javascript object>"
            ],
            "application/javascript": [
              "\n",
              "    async function download(id, filename, size) {\n",
              "      if (!google.colab.kernel.accessAllowed) {\n",
              "        return;\n",
              "      }\n",
              "      const div = document.createElement('div');\n",
              "      const label = document.createElement('label');\n",
              "      label.textContent = `Downloading \"${filename}\": `;\n",
              "      div.appendChild(label);\n",
              "      const progress = document.createElement('progress');\n",
              "      progress.max = size;\n",
              "      div.appendChild(progress);\n",
              "      document.body.appendChild(div);\n",
              "\n",
              "      const buffers = [];\n",
              "      let downloaded = 0;\n",
              "\n",
              "      const channel = await google.colab.kernel.comms.open(id);\n",
              "      // Send a message to notify the kernel that we're ready.\n",
              "      channel.send({})\n",
              "\n",
              "      for await (const message of channel.messages) {\n",
              "        // Send a message to notify the kernel that we're ready.\n",
              "        channel.send({})\n",
              "        if (message.buffers) {\n",
              "          for (const buffer of message.buffers) {\n",
              "            buffers.push(buffer);\n",
              "            downloaded += buffer.byteLength;\n",
              "            progress.value = downloaded;\n",
              "          }\n",
              "        }\n",
              "      }\n",
              "      const blob = new Blob(buffers, {type: 'application/binary'});\n",
              "      const a = document.createElement('a');\n",
              "      a.href = window.URL.createObjectURL(blob);\n",
              "      a.download = filename;\n",
              "      div.appendChild(a);\n",
              "      a.click();\n",
              "      div.remove();\n",
              "    }\n",
              "  "
            ]
          },
          "metadata": {}
        },
        {
          "output_type": "display_data",
          "data": {
            "text/plain": [
              "<IPython.core.display.Javascript object>"
            ],
            "application/javascript": [
              "download(\"download_32ac7baa-f5d5-4e5f-b92b-ffaaa5d52740\", \"Combined_Dataset.zip\", 168081626)"
            ]
          },
          "metadata": {}
        }
      ]
    }
  ]
}