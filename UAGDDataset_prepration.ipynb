{
  "nbformat": 4,
  "nbformat_minor": 0,
  "metadata": {
    "colab": {
      "provenance": [],
      "authorship_tag": "ABX9TyP2trg3Qv7Ic3L99A2UXWO0",
      "include_colab_link": true
    },
    "kernelspec": {
      "name": "python3",
      "display_name": "Python 3"
    },
    "language_info": {
      "name": "python"
    }
  },
  "cells": [
    {
      "cell_type": "markdown",
      "metadata": {
        "id": "view-in-github",
        "colab_type": "text"
      },
      "source": [
        "<a href=\"https://colab.research.google.com/github/vipin-jangra/face-age-estimation-CNN/blob/main/UAGDDataset_prepration.ipynb\" target=\"_parent\"><img src=\"https://colab.research.google.com/assets/colab-badge.svg\" alt=\"Open In Colab\"/></a>"
      ]
    },
    {
      "cell_type": "code",
      "source": [
        "import os\n",
        "from zipfile import ZipFile\n",
        "import shutil\n",
        "import pandas as pd\n",
        "from PIL import Image\n",
        "from sklearn.model_selection import train_test_split"
      ],
      "metadata": {
        "id": "QlFiF1d8ufps"
      },
      "execution_count": 1,
      "outputs": []
    },
    {
      "cell_type": "code",
      "source": [
        "from google.colab import drive\n",
        "\n",
        "drive.mount('/content/drive')"
      ],
      "metadata": {
        "colab": {
          "base_uri": "https://localhost:8080/"
        },
        "id": "IWcs6_iTtBdc",
        "outputId": "0c023646-484b-4ebb-c866-6515c9af6d5f"
      },
      "execution_count": 2,
      "outputs": [
        {
          "output_type": "stream",
          "name": "stdout",
          "text": [
            "Mounted at /content/drive\n"
          ]
        }
      ]
    },
    {
      "cell_type": "code",
      "source": [
        "#Unzipping the dataset file combined_faces.zip\n",
        "\n",
        "faces_zip_path = \"/content/drive/MyDrive/Dataset/Dataset2/uagd_dataset.zip\";\n",
        "\n",
        "with ZipFile(faces_zip_path, 'r') as myzip:\n",
        "    myzip.extractall()\n",
        "    print('Done unzipping faces.zip')"
      ],
      "metadata": {
        "colab": {
          "base_uri": "https://localhost:8080/"
        },
        "id": "-w581L5mukUU",
        "outputId": "3c2dc3f5-864b-44a1-ca58-c6a8297fae29"
      },
      "execution_count": 3,
      "outputs": [
        {
          "output_type": "stream",
          "name": "stdout",
          "text": [
            "Done unzipping faces.zip\n"
          ]
        }
      ]
    },
    {
      "cell_type": "code",
      "source": [
        "# Define age ranges\n",
        "age_ranges = [(1, 2), (3, 9), (10, 20), (21, 27), (28, 45), (46, 65), (66, 116)]"
      ],
      "metadata": {
        "id": "k2J4p_NW89Lg"
      },
      "execution_count": 4,
      "outputs": []
    },
    {
      "cell_type": "code",
      "source": [
        "def categorize_age(age):\n",
        "    for range_name, (start, end) in enumerate(age_ranges):\n",
        "        if start <= age <= end:\n",
        "            return range_name\n",
        "    return None"
      ],
      "metadata": {
        "id": "_0kOC7IH9nmy"
      },
      "execution_count": 5,
      "outputs": []
    },
    {
      "cell_type": "code",
      "source": [
        "dataset_dir_train = '/content/uagd_dataset/train'\n",
        "# Get the list of all image file paths\n",
        "\n",
        "image_paths_train = [os.path.join(dataset_dir_train, fname) for fname in os.listdir(dataset_dir_train) if fname.endswith('.jpg')]\n",
        "print(f\"Images shape: {len(image_paths_train)}\")"
      ],
      "metadata": {
        "colab": {
          "base_uri": "https://localhost:8080/"
        },
        "id": "CiBDSaj2x3Ky",
        "outputId": "42d172be-6052-4398-a104-0883377036a4"
      },
      "execution_count": 7,
      "outputs": [
        {
          "output_type": "stream",
          "name": "stdout",
          "text": [
            "Images shape: 7851\n"
          ]
        }
      ]
    },
    {
      "cell_type": "code",
      "source": [
        "dataset_dir_val = '/content/uagd_dataset/val'\n",
        "# Get the list of all image file paths\n",
        "\n",
        "image_paths_val = [os.path.join(dataset_dir_val, fname) for fname in os.listdir(dataset_dir_val) if fname.endswith('.jpg')]\n",
        "print(f\"Images shape: {len(image_paths_val)}\")"
      ],
      "metadata": {
        "colab": {
          "base_uri": "https://localhost:8080/"
        },
        "id": "WF_96jNwBO-2",
        "outputId": "dce405e2-4262-4103-bd87-7b1e1df8fe75"
      },
      "execution_count": 9,
      "outputs": [
        {
          "output_type": "stream",
          "name": "stdout",
          "text": [
            "Images shape: 4000\n"
          ]
        }
      ]
    },
    {
      "cell_type": "code",
      "source": [
        "dataset_path_train = '/content/uagd_dataset/train'  # Change this to your dataset folder\n",
        "# Extract age labels from filenames\n",
        "ages_train = [int(fname.split('_')[1]) for fname in os.listdir(dataset_path_train) if fname.endswith('.jpg')]\n",
        "print(f\"Ages shape: {len(ages_train)}\")"
      ],
      "metadata": {
        "colab": {
          "base_uri": "https://localhost:8080/"
        },
        "id": "lyJQccQkw-Ge",
        "outputId": "819853bd-760f-4938-ab17-717ff6c5a045"
      },
      "execution_count": 10,
      "outputs": [
        {
          "output_type": "stream",
          "name": "stdout",
          "text": [
            "Ages shape: 7851\n"
          ]
        }
      ]
    },
    {
      "cell_type": "code",
      "source": [
        "dataset_path_val = '/content/uagd_dataset/val'  # Change this to your dataset folder\n",
        "# Extract age labels from filenames\n",
        "ages_val = [int(fname.split('_')[1]) for fname in os.listdir(dataset_path_val) if fname.endswith('.jpg')]\n",
        "print(f\"Ages shape: {len(ages_val)}\")"
      ],
      "metadata": {
        "colab": {
          "base_uri": "https://localhost:8080/"
        },
        "id": "vmPxyZLwBpLI",
        "outputId": "cf7af6d8-cb9c-46a3-ce85-6af3df4d86e5"
      },
      "execution_count": 11,
      "outputs": [
        {
          "output_type": "stream",
          "name": "stdout",
          "text": [
            "Ages shape: 4000\n"
          ]
        }
      ]
    },
    {
      "cell_type": "code",
      "source": [
        "# Categorize ages into ranges\n",
        "age_categories = [categorize_age(age) for age in ages]"
      ],
      "metadata": {
        "id": "a7LVEddzxPNL"
      },
      "execution_count": null,
      "outputs": []
    },
    {
      "cell_type": "code",
      "source": [
        "import collections\n",
        "# Function to print the distribution of age ranges\n",
        "def print_age_distribution(labels, dataset_type):\n",
        "    counter = collections.Counter(labels)\n",
        "    print(f\"{dataset_type} Age Distribution:\")\n",
        "    for age_range, count in counter.items():\n",
        "        print(f\"Age range {age_range}: {count} samples\")"
      ],
      "metadata": {
        "id": "BHsybyxoyhT-"
      },
      "execution_count": 12,
      "outputs": []
    },
    {
      "cell_type": "code",
      "execution_count": 14,
      "metadata": {
        "colab": {
          "base_uri": "https://localhost:8080/"
        },
        "id": "DRrBuyogrulE",
        "outputId": "99b18463-0919-46bc-c741-03829af6966e"
      },
      "outputs": [
        {
          "output_type": "stream",
          "name": "stdout",
          "text": [
            "Training Age Distribution:\n",
            "Age range 53: 100 samples\n",
            "Age range 69: 100 samples\n",
            "Age range 65: 100 samples\n",
            "Age range 6: 89 samples\n",
            "Age range 73: 100 samples\n",
            "Age range 32: 100 samples\n",
            "Age range 58: 100 samples\n",
            "Age range 51: 100 samples\n",
            "Age range 55: 100 samples\n",
            "Age range 29: 100 samples\n",
            "Age range 64: 100 samples\n",
            "Age range 43: 100 samples\n",
            "Age range 21: 100 samples\n",
            "Age range 74: 80 samples\n",
            "Age range 3: 100 samples\n",
            "Age range 48: 100 samples\n",
            "Age range 10: 100 samples\n",
            "Age range 31: 100 samples\n",
            "Age range 59: 100 samples\n",
            "Age range 16: 100 samples\n",
            "Age range 4: 100 samples\n",
            "Age range 77: 85 samples\n",
            "Age range 35: 100 samples\n",
            "Age range 33: 100 samples\n",
            "Age range 46: 100 samples\n",
            "Age range 56: 100 samples\n",
            "Age range 12: 100 samples\n",
            "Age range 80: 100 samples\n",
            "Age range 68: 100 samples\n",
            "Age range 62: 100 samples\n",
            "Age range 24: 100 samples\n",
            "Age range 30: 100 samples\n",
            "Age range 36: 100 samples\n",
            "Age range 13: 100 samples\n",
            "Age range 18: 100 samples\n",
            "Age range 26: 100 samples\n",
            "Age range 70: 100 samples\n",
            "Age range 47: 100 samples\n",
            "Age range 2: 100 samples\n",
            "Age range 28: 100 samples\n",
            "Age range 23: 100 samples\n",
            "Age range 37: 100 samples\n",
            "Age range 50: 100 samples\n",
            "Age range 5: 100 samples\n",
            "Age range 49: 100 samples\n",
            "Age range 41: 100 samples\n",
            "Age range 44: 100 samples\n",
            "Age range 8: 101 samples\n",
            "Age range 20: 100 samples\n",
            "Age range 78: 88 samples\n",
            "Age range 40: 100 samples\n",
            "Age range 25: 100 samples\n",
            "Age range 14: 100 samples\n",
            "Age range 54: 99 samples\n",
            "Age range 45: 100 samples\n",
            "Age range 67: 100 samples\n",
            "Age range 63: 100 samples\n",
            "Age range 42: 100 samples\n",
            "Age range 22: 100 samples\n",
            "Age range 72: 100 samples\n",
            "Age range 7: 100 samples\n",
            "Age range 61: 100 samples\n",
            "Age range 66: 100 samples\n",
            "Age range 71: 98 samples\n",
            "Age range 11: 81 samples\n",
            "Age range 52: 100 samples\n",
            "Age range 60: 100 samples\n",
            "Age range 34: 100 samples\n",
            "Age range 1: 100 samples\n",
            "Age range 57: 100 samples\n",
            "Age range 76: 94 samples\n",
            "Age range 79: 55 samples\n",
            "Age range 27: 100 samples\n",
            "Age range 39: 100 samples\n",
            "Age range 19: 100 samples\n",
            "Age range 15: 100 samples\n",
            "Age range 17: 100 samples\n",
            "Age range 38: 100 samples\n",
            "Age range 9: 81 samples\n",
            "Age range 75: 100 samples\n",
            "Validation Age Distribution:\n",
            "Age range 58: 50 samples\n",
            "Age range 49: 50 samples\n",
            "Age range 38: 50 samples\n",
            "Age range 16: 50 samples\n",
            "Age range 76: 50 samples\n",
            "Age range 61: 50 samples\n",
            "Age range 19: 50 samples\n",
            "Age range 68: 50 samples\n",
            "Age range 50: 50 samples\n",
            "Age range 20: 50 samples\n",
            "Age range 70: 50 samples\n",
            "Age range 72: 50 samples\n",
            "Age range 1: 50 samples\n",
            "Age range 42: 50 samples\n",
            "Age range 28: 50 samples\n",
            "Age range 25: 50 samples\n",
            "Age range 35: 50 samples\n",
            "Age range 15: 50 samples\n",
            "Age range 78: 50 samples\n",
            "Age range 53: 50 samples\n",
            "Age range 63: 50 samples\n",
            "Age range 37: 50 samples\n",
            "Age range 75: 50 samples\n",
            "Age range 13: 50 samples\n",
            "Age range 29: 50 samples\n",
            "Age range 18: 50 samples\n",
            "Age range 23: 50 samples\n",
            "Age range 60: 50 samples\n",
            "Age range 44: 50 samples\n",
            "Age range 12: 50 samples\n",
            "Age range 73: 50 samples\n",
            "Age range 30: 50 samples\n",
            "Age range 57: 50 samples\n",
            "Age range 65: 50 samples\n",
            "Age range 14: 50 samples\n",
            "Age range 52: 50 samples\n",
            "Age range 6: 50 samples\n",
            "Age range 43: 50 samples\n",
            "Age range 33: 50 samples\n",
            "Age range 10: 50 samples\n",
            "Age range 5: 50 samples\n",
            "Age range 2: 50 samples\n",
            "Age range 36: 50 samples\n",
            "Age range 34: 50 samples\n",
            "Age range 22: 50 samples\n",
            "Age range 45: 50 samples\n",
            "Age range 40: 50 samples\n",
            "Age range 31: 50 samples\n",
            "Age range 67: 50 samples\n",
            "Age range 32: 50 samples\n",
            "Age range 21: 50 samples\n",
            "Age range 24: 50 samples\n",
            "Age range 69: 50 samples\n",
            "Age range 64: 50 samples\n",
            "Age range 55: 50 samples\n",
            "Age range 4: 50 samples\n",
            "Age range 74: 50 samples\n",
            "Age range 80: 50 samples\n",
            "Age range 41: 50 samples\n",
            "Age range 79: 50 samples\n",
            "Age range 17: 50 samples\n",
            "Age range 7: 50 samples\n",
            "Age range 62: 50 samples\n",
            "Age range 46: 50 samples\n",
            "Age range 54: 50 samples\n",
            "Age range 27: 50 samples\n",
            "Age range 39: 50 samples\n",
            "Age range 48: 50 samples\n",
            "Age range 56: 50 samples\n",
            "Age range 59: 50 samples\n",
            "Age range 9: 50 samples\n",
            "Age range 3: 50 samples\n",
            "Age range 47: 50 samples\n",
            "Age range 11: 50 samples\n",
            "Age range 77: 50 samples\n",
            "Age range 66: 50 samples\n",
            "Age range 71: 50 samples\n",
            "Age range 8: 50 samples\n",
            "Age range 51: 50 samples\n",
            "Age range 26: 50 samples\n",
            "Dataset processed and split into '/content/UAGDDataset/UAGDDataset/train' and '/content/UAGDDataset/UAGDDataset/test' with labels saved as CSV.\n"
          ]
        }
      ],
      "source": [
        "\n",
        "\n",
        "def preprocess_and_split_dataset(dataset_path, output_path, resize_dim=(224, 224), test_size=0.2):\n",
        "    # Create output directories for training and testing\n",
        "    train_dir = os.path.join(output_path, 'train')\n",
        "    test_dir = os.path.join(output_path, 'test')\n",
        "    os.makedirs(train_dir, exist_ok=True)\n",
        "    os.makedirs(test_dir, exist_ok=True)\n",
        "\n",
        "\n",
        "\n",
        "        # Print distribution for training set\n",
        "    print_age_distribution(ages_train, \"Training\")\n",
        "\n",
        "    # Print distribution for validation set\n",
        "    print_age_distribution(ages_val, \"Validation\")\n",
        "\n",
        "    # Save training images and create train CSV\n",
        "    train_data = []\n",
        "    for img_path, label in zip(image_paths_train, ages_train):\n",
        "        try:\n",
        "            # img = Image.open(img_path)  # Open the image\n",
        "            # img = img.convert('L')  # Convert to grayscale\n",
        "            # img = img.resize(resize_dim)  # Resize image\n",
        "            # img.save(os.path.join(train_dir, os.path.basename(img_path)))  # Save image to train folder\n",
        "            train_data.append({'filepath': os.path.join(train_dir, os.path.basename(img_path)), 'age': label})  # Full path\n",
        "        except Exception as e:\n",
        "            print(f\"Error processing {img_path}: {e}\")\n",
        "\n",
        "    train_df = pd.DataFrame(train_data)\n",
        "    train_df.to_csv(os.path.join(output_path, 'train_labels.csv'), index=False)\n",
        "\n",
        "    # Save testing images and create test CSV\n",
        "    test_data = []\n",
        "    for img_path, label in zip(image_paths_val, ages_val):\n",
        "        try:\n",
        "            # img = Image.open(img_path)  # Open the image\n",
        "            # img = img.convert('L')  # Convert to grayscale\n",
        "            # img = img.resize(resize_dim)  # Resize image\n",
        "            #img.save(os.path.join(test_dir, os.path.basename(img_path)))  # Save image to test folder\n",
        "            test_data.append({'filepath': os.path.join(test_dir, os.path.basename(img_path)), 'age': label})  # Full path\n",
        "        except Exception as e:\n",
        "            print(f\"Error processing {img_path}: {e}\")\n",
        "\n",
        "    test_df = pd.DataFrame(test_data)\n",
        "    test_df.to_csv(os.path.join(output_path, 'test_labels.csv'), index=False)\n",
        "\n",
        "\n",
        "    print(f\"Dataset processed and split into '{train_dir}' and '{test_dir}' with labels saved as CSV.\")\n",
        "\n",
        "\n",
        "\n",
        "\n",
        "# Example usage\n",
        "filepath = '/content/uagd_dataset'\n",
        "output_path = '/content/UAGDDataset/UAGDDataset'   # Change this to your output folder\n",
        "preprocess_and_split_dataset(filepath, output_path)\n"
      ]
    },
    {
      "cell_type": "code",
      "source": [
        "import shutil\n",
        "\n",
        "# Path to the output folder where 'train' and 'test' directories are created\n",
        "output_path = '/content/UAGDDataset'  # Change this to your output folder path\n",
        "shutil.make_archive(output_path, 'zip', output_path)\n",
        "\n",
        "from google.colab import files\n",
        "files.download(output_path + '.zip')  # Download the zip file\n"
      ],
      "metadata": {
        "colab": {
          "base_uri": "https://localhost:8080/",
          "height": 17
        },
        "id": "Y9Yvpujz1rts",
        "outputId": "a7fb74f5-9f32-4832-f08c-59bd1c6cd8b5"
      },
      "execution_count": 15,
      "outputs": [
        {
          "output_type": "display_data",
          "data": {
            "text/plain": [
              "<IPython.core.display.Javascript object>"
            ],
            "application/javascript": [
              "\n",
              "    async function download(id, filename, size) {\n",
              "      if (!google.colab.kernel.accessAllowed) {\n",
              "        return;\n",
              "      }\n",
              "      const div = document.createElement('div');\n",
              "      const label = document.createElement('label');\n",
              "      label.textContent = `Downloading \"${filename}\": `;\n",
              "      div.appendChild(label);\n",
              "      const progress = document.createElement('progress');\n",
              "      progress.max = size;\n",
              "      div.appendChild(progress);\n",
              "      document.body.appendChild(div);\n",
              "\n",
              "      const buffers = [];\n",
              "      let downloaded = 0;\n",
              "\n",
              "      const channel = await google.colab.kernel.comms.open(id);\n",
              "      // Send a message to notify the kernel that we're ready.\n",
              "      channel.send({})\n",
              "\n",
              "      for await (const message of channel.messages) {\n",
              "        // Send a message to notify the kernel that we're ready.\n",
              "        channel.send({})\n",
              "        if (message.buffers) {\n",
              "          for (const buffer of message.buffers) {\n",
              "            buffers.push(buffer);\n",
              "            downloaded += buffer.byteLength;\n",
              "            progress.value = downloaded;\n",
              "          }\n",
              "        }\n",
              "      }\n",
              "      const blob = new Blob(buffers, {type: 'application/binary'});\n",
              "      const a = document.createElement('a');\n",
              "      a.href = window.URL.createObjectURL(blob);\n",
              "      a.download = filename;\n",
              "      div.appendChild(a);\n",
              "      a.click();\n",
              "      div.remove();\n",
              "    }\n",
              "  "
            ]
          },
          "metadata": {}
        },
        {
          "output_type": "display_data",
          "data": {
            "text/plain": [
              "<IPython.core.display.Javascript object>"
            ],
            "application/javascript": [
              "download(\"download_ebbc95fc-891e-4444-aecb-484cb7ae0a31\", \"UAGDDataset.zip\", 411710)"
            ]
          },
          "metadata": {}
        }
      ]
    }
  ]
}