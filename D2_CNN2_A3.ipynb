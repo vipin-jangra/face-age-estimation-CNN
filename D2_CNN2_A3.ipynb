{
  "nbformat": 4,
  "nbformat_minor": 0,
  "metadata": {
    "colab": {
      "provenance": [],
      "authorship_tag": "ABX9TyP2R9ahqSALcFqgZiPlEvqE",
      "include_colab_link": true
    },
    "kernelspec": {
      "name": "python3",
      "display_name": "Python 3"
    },
    "language_info": {
      "name": "python"
    }
  },
  "cells": [
    {
      "cell_type": "markdown",
      "metadata": {
        "id": "view-in-github",
        "colab_type": "text"
      },
      "source": [
        "<a href=\"https://colab.research.google.com/github/vipin-jangra/face-age-estimation-CNN/blob/main/D2_CNN2_A3.ipynb\" target=\"_parent\"><img src=\"https://colab.research.google.com/assets/colab-badge.svg\" alt=\"Open In Colab\"/></a>"
      ]
    },
    {
      "cell_type": "code",
      "execution_count": null,
      "metadata": {
        "id": "peereW1AZTUQ"
      },
      "outputs": [],
      "source": [
        "import numpy as np\n",
        "import cv2\n",
        "import keras\n",
        "import os\n",
        "import seaborn as sns\n",
        "import matplotlib.pyplot as plt\n",
        "%matplotlib inline"
      ]
    },
    {
      "cell_type": "code",
      "execution_count": null,
      "metadata": {
        "id": "vbgqOi-haRGF"
      },
      "outputs": [],
      "source": [
        "from keras.applications import ResNet101\n",
        "from keras.models import Model\n",
        "from keras.layers import Dense, GlobalAveragePooling2D\n",
        "from keras.callbacks import EarlyStopping, ModelCheckpoint\n",
        "from sklearn.model_selection import train_test_split\n",
        "from keras.preprocessing.image import load_img, img_to_array\n",
        "from keras.optimizers import Adam\n",
        "from keras.utils import to_categorical\n",
        "from sklearn.metrics import accuracy_score, precision_score, recall_score, f1_score\n",
        "from keras.applications.resnet50 import preprocess_input"
      ]
    },
    {
      "cell_type": "code",
      "source": [
        "def preprocess_image(image_path):\n",
        "    # Read grayscale image\n",
        "    image = cv2.imread(image_path, cv2.IMREAD_GRAYSCALE)\n",
        "    # Resize image to (224, 224)\n",
        "    image = cv2.resize(image, (224, 224))\n",
        "    # Convert grayscale to RGB by stacking the single channel\n",
        "    image_rgb = np.stack((image,) * 3, axis=-1)\n",
        "    # Preprocess image for ResNet50 model\n",
        "    image_rgb = preprocess_input(image_rgb)\n",
        "    return image_rgb"
      ],
      "metadata": {
        "id": "S319tGXLoR1n"
      },
      "execution_count": null,
      "outputs": []
    },
    {
      "cell_type": "code",
      "execution_count": null,
      "metadata": {
        "colab": {
          "base_uri": "https://localhost:8080/"
        },
        "id": "XzBKcMcUgNSO",
        "outputId": "f82fd2a5-d49e-4d73-944e-c06a789f6ae8"
      },
      "outputs": [
        {
          "output_type": "stream",
          "name": "stdout",
          "text": [
            "Mounted at /content/drive\n"
          ]
        }
      ],
      "source": [
        "from google.colab import drive\n",
        "\n",
        "drive.mount('/content/drive')\n",
        "!unzip '/content/drive/MyDrive/Dataset/fg-net.zip'"
      ]
    },
    {
      "cell_type": "code",
      "source": [
        "# Define age ranges\n",
        "age_ranges = [(1, 2), (3, 9), (10, 20), (21, 27), (28, 45), (46, 65), (66, 116)]\n",
        "\n",
        "# Function to map age to range index\n",
        "def age_to_range(age, age_ranges):\n",
        "    for idx, (start, end) in enumerate(age_ranges):\n",
        "        if start <= age <= end:\n",
        "            return idx\n",
        "    return None"
      ],
      "metadata": {
        "id": "2j5_YSQaefUm"
      },
      "execution_count": null,
      "outputs": []
    },
    {
      "cell_type": "code",
      "source": [
        "def preprocess_labels(labels, num_classes):\n",
        "    # One-hot encode labels\n",
        "    labels = to_categorical(labels, num_classes=num_classes)\n",
        "    return labels"
      ],
      "metadata": {
        "id": "-UPPR8qmuGAT"
      },
      "execution_count": null,
      "outputs": []
    },
    {
      "cell_type": "code",
      "execution_count": null,
      "metadata": {
        "id": "_H7lafoTqYQT"
      },
      "outputs": [],
      "source": [
        "# Load and preprocess the dataset\n",
        "image_dir = '/content/FGNET'\n",
        "images=[]\n",
        "image_paths = []\n",
        "age_labels = []\n",
        "age_groups = []\n",
        "target_size = (224, 224)\n",
        "\n",
        "for filename in os.listdir(image_dir):\n",
        "  if filename.endswith(\".jpg\"):\n",
        "    age = int(filename.split('A')[1])\n",
        "    range_index = age_to_range(age,age_ranges)\n",
        "    age_labels.append(range_index)\n",
        "\n",
        "    image_path = os.path.join(image_dir, filename)\n",
        "    image = preprocess_image(image_path)\n",
        "    images.append(image)\n",
        "    image_paths.append(image_path)\n",
        "\n",
        "images = np.array(images)\n",
        "age_groups = age_labels\n",
        "age_labels = preprocess_labels(age_labels, len(age_ranges))"
      ]
    },
    {
      "cell_type": "code",
      "execution_count": null,
      "metadata": {
        "colab": {
          "base_uri": "https://localhost:8080/"
        },
        "id": "go5l9GdSDK1N",
        "outputId": "8785f85e-b1a6-433a-c84b-cc9a98df0222"
      },
      "outputs": [
        {
          "output_type": "stream",
          "name": "stdout",
          "text": [
            "number of images : 9931\n"
          ]
        }
      ],
      "source": [
        "print(f'number of images : {len(images)}')"
      ]
    },
    {
      "cell_type": "code",
      "execution_count": null,
      "metadata": {
        "colab": {
          "base_uri": "https://localhost:8080/",
          "height": 218
        },
        "id": "9pTZjYPVHj6n",
        "outputId": "f2bd8a09-7e01-475e-fbb9-c3020a7c6f74"
      },
      "outputs": [
        {
          "output_type": "error",
          "ename": "NameError",
          "evalue": "name 'age_groups' is not defined",
          "traceback": [
            "\u001b[0;31m---------------------------------------------------------------------------\u001b[0m",
            "\u001b[0;31mNameError\u001b[0m                                 Traceback (most recent call last)",
            "\u001b[0;32m<ipython-input-12-c0b455dffe09>\u001b[0m in \u001b[0;36m<cell line: 3>\u001b[0;34m()\u001b[0m\n\u001b[1;32m      1\u001b[0m \u001b[0;32mimport\u001b[0m \u001b[0mpandas\u001b[0m \u001b[0;32mas\u001b[0m \u001b[0mpd\u001b[0m\u001b[0;34m\u001b[0m\u001b[0;34m\u001b[0m\u001b[0m\n\u001b[1;32m      2\u001b[0m \u001b[0mdf\u001b[0m \u001b[0;34m=\u001b[0m \u001b[0mpd\u001b[0m\u001b[0;34m.\u001b[0m\u001b[0mDataFrame\u001b[0m\u001b[0;34m(\u001b[0m\u001b[0;34m)\u001b[0m\u001b[0;34m\u001b[0m\u001b[0;34m\u001b[0m\u001b[0m\n\u001b[0;32m----> 3\u001b[0;31m \u001b[0mage_intervals\u001b[0m \u001b[0;34m=\u001b[0m \u001b[0;34m[\u001b[0m\u001b[0mage_group_to_interval\u001b[0m\u001b[0;34m(\u001b[0m\u001b[0mage\u001b[0m\u001b[0;34m)\u001b[0m \u001b[0;32mfor\u001b[0m \u001b[0mage\u001b[0m \u001b[0;32min\u001b[0m \u001b[0mage_groups\u001b[0m\u001b[0;34m]\u001b[0m\u001b[0;34m\u001b[0m\u001b[0;34m\u001b[0m\u001b[0m\n\u001b[0m\u001b[1;32m      4\u001b[0m \u001b[0mdf\u001b[0m\u001b[0;34m[\u001b[0m\u001b[0;34m'images_path'\u001b[0m\u001b[0;34m]\u001b[0m\u001b[0;34m,\u001b[0m\u001b[0mdf\u001b[0m\u001b[0;34m[\u001b[0m\u001b[0;34m'age'\u001b[0m\u001b[0;34m]\u001b[0m \u001b[0;34m=\u001b[0m \u001b[0mimage_paths\u001b[0m\u001b[0;34m,\u001b[0m\u001b[0mage_intervals\u001b[0m\u001b[0;34m\u001b[0m\u001b[0;34m\u001b[0m\u001b[0m\n\u001b[1;32m      5\u001b[0m \u001b[0mdf\u001b[0m\u001b[0;34m.\u001b[0m\u001b[0mhead\u001b[0m\u001b[0;34m(\u001b[0m\u001b[0;36m10\u001b[0m\u001b[0;34m)\u001b[0m\u001b[0;34m\u001b[0m\u001b[0;34m\u001b[0m\u001b[0m\n",
            "\u001b[0;31mNameError\u001b[0m: name 'age_groups' is not defined"
          ]
        }
      ],
      "source": [
        "import pandas as pd\n",
        "df = pd.DataFrame()\n",
        "age_intervals = [age_to_range(age,age_ranges) for age in age_groups]\n",
        "df['images_path'],df['age'] = image_paths,age_intervals\n",
        "df.head(10)"
      ]
    },
    {
      "cell_type": "code",
      "execution_count": null,
      "metadata": {
        "id": "cso5KvZ7Jype"
      },
      "outputs": [],
      "source": [
        "plt.figure(figsize=(20,20))\n",
        "samples = df.iloc[0:16]\n",
        "\n",
        "for index,sample,age in samples.itertuples():\n",
        "  plt.subplot(4,4,index+1)\n",
        "  img = load_img(sample)\n",
        "  img = np.array(img)\n",
        "  plt.axis('off')\n",
        "  plt.title(f'Age:{age}')\n",
        "  plt.imshow(img)"
      ]
    },
    {
      "cell_type": "code",
      "execution_count": null,
      "metadata": {
        "id": "d160xsfjNGJz"
      },
      "outputs": [],
      "source": [
        "#age distribution\n",
        "sns.displot(data=age_labels,kde=True)"
      ]
    },
    {
      "cell_type": "code",
      "execution_count": null,
      "metadata": {
        "id": "zj6b5qRLt6xN"
      },
      "outputs": [],
      "source": [
        "train_images, test_images, train_age_groups, test_age_groups = train_test_split(images, age_labels, test_size=0.2, random_state=42)\n"
      ]
    },
    {
      "cell_type": "code",
      "execution_count": null,
      "metadata": {
        "id": "3G6cq0RDuPsK",
        "colab": {
          "base_uri": "https://localhost:8080/"
        },
        "outputId": "359093ca-41c1-465c-d9b1-e5c8c9828f48"
      },
      "outputs": [
        {
          "output_type": "stream",
          "name": "stdout",
          "text": [
            "Downloading data from https://storage.googleapis.com/tensorflow/keras-applications/resnet/resnet50_weights_tf_dim_ordering_tf_kernels_notop.h5\n",
            "94765736/94765736 [==============================] - 1s 0us/step\n"
          ]
        }
      ],
      "source": [
        "# Load the pre-trained ResNet50 model\n",
        "base_model = ResNet101(weights='imagenet', include_top=False, input_shape=(224, 224, 3))\n",
        "\n",
        "# Add custom layers on top of the base model\n",
        "x = base_model.output\n",
        "x = GlobalAveragePooling2D()(x)\n",
        "\n",
        "x = Dense(132, activation='relu')(x)\n",
        "predictions = Dense(len(age_ranges), activation='softmax')(x)\n",
        "\n",
        "# Create the complete model\n",
        "model = Model(inputs=base_model.input, outputs=predictions)\n",
        "\n",
        "# Compile the model\n",
        "model.compile(optimizer=Adam(learning_rate=0.0001), loss='categorical_crossentropy', metrics=['accuracy'])\n"
      ]
    },
    {
      "cell_type": "code",
      "execution_count": null,
      "metadata": {
        "id": "NWxlBT66uaok"
      },
      "outputs": [],
      "source": [
        "early_stopping = EarlyStopping(monitor='val_loss', patience=15, restore_best_weights=True)\n",
        "model_checkpoint = ModelCheckpoint(\n",
        "    '/content/drive/MyDrive/Dataset/D3_CNN2_A3.h5',  # Filepath to save the best model\n",
        "    monitor='val_accuracy',  # Metric to monitor\n",
        "    verbose=1,\n",
        "    save_best_only=True,  # Only save the best model\n",
        "    mode='max'  # Mode to determine best (maximizing validation accuracy)\n",
        ")\n"
      ]
    },
    {
      "cell_type": "code",
      "execution_count": null,
      "metadata": {
        "id": "hFYsWZtAufkW",
        "colab": {
          "base_uri": "https://localhost:8080/"
        },
        "outputId": "38e4df58-18c4-4b39-ea00-b76506f682c1"
      },
      "outputs": [
        {
          "output_type": "stream",
          "name": "stdout",
          "text": [
            "Epoch 1/60\n",
            "199/199 [==============================] - ETA: 0s - loss: 1.0779 - accuracy: 0.5695\n",
            "Epoch 1: val_accuracy improved from -inf to 0.56199, saving model to best_model.h5\n"
          ]
        },
        {
          "output_type": "stream",
          "name": "stderr",
          "text": [
            "/usr/local/lib/python3.10/dist-packages/keras/src/engine/training.py:3103: UserWarning: You are saving your model as an HDF5 file via `model.save()`. This file format is considered legacy. We recommend using instead the native Keras format, e.g. `model.save('my_model.keras')`.\n",
            "  saving_api.save_model(\n"
          ]
        },
        {
          "output_type": "stream",
          "name": "stdout",
          "text": [
            "\b\b\b\b\b\b\b\b\b\b\b\b\b\b\b\b\b\b\b\b\b\b\b\b\b\b\b\b\b\b\b\b\b\b\b\b\b\b\b\b\b\b\b\b\b\b\b\b\b\b\b\b\b\b\b\b\b\b\b\b\b\b\b\b\b\b\b\b\b\b\b\b\b\b\b\b\b\b\b\b\b\b\b\b\r199/199 [==============================] - 58s 103ms/step - loss: 1.0779 - accuracy: 0.5695 - val_loss: 1.1683 - val_accuracy: 0.5620\n",
            "Epoch 2/60\n",
            "199/199 [==============================] - ETA: 0s - loss: 0.4084 - accuracy: 0.8535\n",
            "Epoch 2: val_accuracy improved from 0.56199 to 0.60604, saving model to best_model.h5\n",
            "199/199 [==============================] - 15s 76ms/step - loss: 0.4084 - accuracy: 0.8535 - val_loss: 1.1887 - val_accuracy: 0.6060\n",
            "Epoch 3/60\n",
            "199/199 [==============================] - ETA: 0s - loss: 0.1292 - accuracy: 0.9651\n",
            "Epoch 3: val_accuracy did not improve from 0.60604\n",
            "199/199 [==============================] - 14s 70ms/step - loss: 0.1292 - accuracy: 0.9651 - val_loss: 1.8848 - val_accuracy: 0.5400\n",
            "Epoch 4/60\n",
            "199/199 [==============================] - ETA: 0s - loss: 0.1203 - accuracy: 0.9663\n",
            "Epoch 4: val_accuracy did not improve from 0.60604\n",
            "199/199 [==============================] - 14s 70ms/step - loss: 0.1203 - accuracy: 0.9663 - val_loss: 1.5488 - val_accuracy: 0.5777\n",
            "Epoch 5/60\n",
            "199/199 [==============================] - ETA: 0s - loss: 0.1401 - accuracy: 0.9520\n",
            "Epoch 5: val_accuracy did not improve from 0.60604\n",
            "199/199 [==============================] - 14s 70ms/step - loss: 0.1401 - accuracy: 0.9520 - val_loss: 2.2149 - val_accuracy: 0.5261\n",
            "Epoch 6/60\n",
            "199/199 [==============================] - ETA: 0s - loss: 0.1055 - accuracy: 0.9651\n",
            "Epoch 6: val_accuracy did not improve from 0.60604\n",
            "199/199 [==============================] - 14s 69ms/step - loss: 0.1055 - accuracy: 0.9651 - val_loss: 1.7553 - val_accuracy: 0.5790\n",
            "Epoch 7/60\n",
            "199/199 [==============================] - ETA: 0s - loss: 0.0692 - accuracy: 0.9775\n",
            "Epoch 7: val_accuracy improved from 0.60604 to 0.61045, saving model to best_model.h5\n",
            "199/199 [==============================] - 15s 75ms/step - loss: 0.0692 - accuracy: 0.9775 - val_loss: 1.8234 - val_accuracy: 0.6104\n",
            "Epoch 8/60\n",
            "199/199 [==============================] - ETA: 0s - loss: 0.0492 - accuracy: 0.9828\n",
            "Epoch 8: val_accuracy improved from 0.61045 to 0.62303, saving model to best_model.h5\n",
            "199/199 [==============================] - 15s 75ms/step - loss: 0.0492 - accuracy: 0.9828 - val_loss: 1.6375 - val_accuracy: 0.6230\n",
            "Epoch 9/60\n",
            "199/199 [==============================] - ETA: 0s - loss: 0.0671 - accuracy: 0.9770\n",
            "Epoch 9: val_accuracy did not improve from 0.62303\n",
            "199/199 [==============================] - 14s 70ms/step - loss: 0.0671 - accuracy: 0.9770 - val_loss: 2.0835 - val_accuracy: 0.5702\n",
            "Epoch 10/60\n",
            "199/199 [==============================] - ETA: 0s - loss: 0.0675 - accuracy: 0.9784\n",
            "Epoch 10: val_accuracy did not improve from 0.62303\n",
            "199/199 [==============================] - 14s 69ms/step - loss: 0.0675 - accuracy: 0.9784 - val_loss: 1.9389 - val_accuracy: 0.6060\n",
            "Epoch 11/60\n",
            "199/199 [==============================] - ETA: 0s - loss: 0.0743 - accuracy: 0.9739\n",
            "Epoch 11: val_accuracy did not improve from 0.62303\n",
            "199/199 [==============================] - 14s 69ms/step - loss: 0.0743 - accuracy: 0.9739 - val_loss: 2.4987 - val_accuracy: 0.5639\n",
            "Epoch 12/60\n",
            "199/199 [==============================] - ETA: 0s - loss: 0.0661 - accuracy: 0.9780\n",
            "Epoch 12: val_accuracy did not improve from 0.62303\n",
            "199/199 [==============================] - 14s 71ms/step - loss: 0.0661 - accuracy: 0.9780 - val_loss: 2.2686 - val_accuracy: 0.5670\n",
            "Epoch 13/60\n",
            "199/199 [==============================] - ETA: 0s - loss: 0.0684 - accuracy: 0.9759\n",
            "Epoch 13: val_accuracy did not improve from 0.62303\n",
            "199/199 [==============================] - 14s 69ms/step - loss: 0.0684 - accuracy: 0.9759 - val_loss: 2.1939 - val_accuracy: 0.5821\n",
            "Epoch 14/60\n",
            "199/199 [==============================] - ETA: 0s - loss: 0.0513 - accuracy: 0.9800\n",
            "Epoch 14: val_accuracy did not improve from 0.62303\n",
            "199/199 [==============================] - 14s 70ms/step - loss: 0.0513 - accuracy: 0.9800 - val_loss: 2.0473 - val_accuracy: 0.6023\n",
            "Epoch 15/60\n",
            "199/199 [==============================] - ETA: 0s - loss: 0.0510 - accuracy: 0.9839\n",
            "Epoch 15: val_accuracy did not improve from 0.62303\n",
            "199/199 [==============================] - 14s 70ms/step - loss: 0.0510 - accuracy: 0.9839 - val_loss: 2.1686 - val_accuracy: 0.6010\n",
            "Epoch 16/60\n",
            "199/199 [==============================] - ETA: 0s - loss: 0.0275 - accuracy: 0.9904\n",
            "Epoch 16: val_accuracy did not improve from 0.62303\n",
            "199/199 [==============================] - 14s 69ms/step - loss: 0.0275 - accuracy: 0.9904 - val_loss: 2.2907 - val_accuracy: 0.6092\n",
            "Epoch 17/60\n",
            "199/199 [==============================] - ETA: 0s - loss: 0.0158 - accuracy: 0.9948\n",
            "Epoch 17: val_accuracy improved from 0.62303 to 0.62744, saving model to best_model.h5\n",
            "199/199 [==============================] - 15s 76ms/step - loss: 0.0158 - accuracy: 0.9948 - val_loss: 2.0742 - val_accuracy: 0.6274\n",
            "Epoch 18/60\n",
            "199/199 [==============================] - ETA: 0s - loss: 0.0195 - accuracy: 0.9934\n",
            "Epoch 18: val_accuracy did not improve from 0.62744\n",
            "199/199 [==============================] - 14s 69ms/step - loss: 0.0195 - accuracy: 0.9934 - val_loss: 2.2275 - val_accuracy: 0.6060\n",
            "Epoch 19/60\n",
            "199/199 [==============================] - ETA: 0s - loss: 0.0328 - accuracy: 0.9880\n",
            "Epoch 19: val_accuracy did not improve from 0.62744\n",
            "199/199 [==============================] - 14s 71ms/step - loss: 0.0328 - accuracy: 0.9880 - val_loss: 3.0530 - val_accuracy: 0.5267\n",
            "Epoch 20/60\n",
            "199/199 [==============================] - ETA: 0s - loss: 0.0772 - accuracy: 0.9747\n",
            "Epoch 20: val_accuracy did not improve from 0.62744\n",
            "199/199 [==============================] - 14s 70ms/step - loss: 0.0772 - accuracy: 0.9747 - val_loss: 2.2100 - val_accuracy: 0.5878\n",
            "Epoch 21/60\n",
            "198/199 [============================>.] - ETA: 0s - loss: 0.0643 - accuracy: 0.9796\n",
            "Epoch 21: val_accuracy did not improve from 0.62744\n",
            "199/199 [==============================] - 14s 70ms/step - loss: 0.0643 - accuracy: 0.9795 - val_loss: 2.1738 - val_accuracy: 0.6130\n",
            "Epoch 22/60\n",
            "199/199 [==============================] - ETA: 0s - loss: 0.0311 - accuracy: 0.9888\n",
            "Epoch 22: val_accuracy did not improve from 0.62744\n",
            "199/199 [==============================] - 14s 70ms/step - loss: 0.0311 - accuracy: 0.9888 - val_loss: 2.1428 - val_accuracy: 0.6042\n",
            "Epoch 23/60\n",
            "199/199 [==============================] - ETA: 0s - loss: 0.0221 - accuracy: 0.9924\n",
            "Epoch 23: val_accuracy did not improve from 0.62744\n",
            "199/199 [==============================] - 14s 70ms/step - loss: 0.0221 - accuracy: 0.9924 - val_loss: 2.1368 - val_accuracy: 0.6060\n",
            "Epoch 24/60\n",
            "199/199 [==============================] - ETA: 0s - loss: 0.0275 - accuracy: 0.9891\n",
            "Epoch 24: val_accuracy did not improve from 0.62744\n",
            "199/199 [==============================] - 14s 69ms/step - loss: 0.0275 - accuracy: 0.9891 - val_loss: 2.5138 - val_accuracy: 0.5846\n",
            "Epoch 25/60\n",
            "199/199 [==============================] - ETA: 0s - loss: 0.0436 - accuracy: 0.9851\n",
            "Epoch 25: val_accuracy did not improve from 0.62744\n",
            "199/199 [==============================] - 14s 69ms/step - loss: 0.0436 - accuracy: 0.9851 - val_loss: 3.0627 - val_accuracy: 0.5595\n",
            "Epoch 26/60\n",
            "199/199 [==============================] - ETA: 0s - loss: 0.0498 - accuracy: 0.9835\n",
            "Epoch 26: val_accuracy did not improve from 0.62744\n",
            "199/199 [==============================] - 14s 70ms/step - loss: 0.0498 - accuracy: 0.9835 - val_loss: 2.9604 - val_accuracy: 0.5739\n",
            "Epoch 27/60\n",
            "199/199 [==============================] - ETA: 0s - loss: 0.0424 - accuracy: 0.9857\n",
            "Epoch 27: val_accuracy did not improve from 0.62744\n",
            "199/199 [==============================] - 14s 70ms/step - loss: 0.0424 - accuracy: 0.9857 - val_loss: 2.5292 - val_accuracy: 0.5960\n",
            "Epoch 28/60\n",
            "199/199 [==============================] - ETA: 0s - loss: 0.0309 - accuracy: 0.9901\n",
            "Epoch 28: val_accuracy did not improve from 0.62744\n",
            "199/199 [==============================] - 14s 69ms/step - loss: 0.0309 - accuracy: 0.9901 - val_loss: 2.3257 - val_accuracy: 0.6092\n",
            "Epoch 29/60\n",
            "199/199 [==============================] - ETA: 0s - loss: 0.0147 - accuracy: 0.9961\n",
            "Epoch 29: val_accuracy did not improve from 0.62744\n",
            "199/199 [==============================] - 14s 70ms/step - loss: 0.0147 - accuracy: 0.9961 - val_loss: 2.1674 - val_accuracy: 0.6167\n",
            "Epoch 30/60\n",
            "199/199 [==============================] - ETA: 0s - loss: 0.0150 - accuracy: 0.9950\n",
            "Epoch 30: val_accuracy did not improve from 0.62744\n",
            "199/199 [==============================] - 14s 70ms/step - loss: 0.0150 - accuracy: 0.9950 - val_loss: 2.3049 - val_accuracy: 0.5878\n",
            "Epoch 31/60\n",
            "199/199 [==============================] - ETA: 0s - loss: 0.0499 - accuracy: 0.9858\n",
            "Epoch 31: val_accuracy did not improve from 0.62744\n",
            "199/199 [==============================] - 14s 69ms/step - loss: 0.0499 - accuracy: 0.9858 - val_loss: 2.0162 - val_accuracy: 0.6142\n",
            "Epoch 32/60\n",
            "199/199 [==============================] - ETA: 0s - loss: 0.0470 - accuracy: 0.9854\n",
            "Epoch 32: val_accuracy did not improve from 0.62744\n",
            "199/199 [==============================] - 14s 69ms/step - loss: 0.0470 - accuracy: 0.9854 - val_loss: 2.0800 - val_accuracy: 0.6199\n",
            "Epoch 33/60\n",
            "199/199 [==============================] - ETA: 0s - loss: 0.0202 - accuracy: 0.9926\n",
            "Epoch 33: val_accuracy did not improve from 0.62744\n",
            "199/199 [==============================] - 14s 70ms/step - loss: 0.0202 - accuracy: 0.9926 - val_loss: 2.2493 - val_accuracy: 0.6161\n",
            "Epoch 34/60\n",
            "198/199 [============================>.] - ETA: 0s - loss: 0.0209 - accuracy: 0.9942\n",
            "Epoch 34: val_accuracy did not improve from 0.62744\n",
            "199/199 [==============================] - 14s 70ms/step - loss: 0.0209 - accuracy: 0.9942 - val_loss: 2.0897 - val_accuracy: 0.6104\n",
            "Epoch 35/60\n",
            "198/199 [============================>.] - ETA: 0s - loss: 0.0085 - accuracy: 0.9976\n",
            "Epoch 35: val_accuracy did not improve from 0.62744\n",
            "199/199 [==============================] - 14s 69ms/step - loss: 0.0085 - accuracy: 0.9976 - val_loss: 2.0560 - val_accuracy: 0.6262\n",
            "Epoch 36/60\n",
            "199/199 [==============================] - ETA: 0s - loss: 0.0227 - accuracy: 0.9924\n",
            "Epoch 36: val_accuracy did not improve from 0.62744\n",
            "199/199 [==============================] - 14s 70ms/step - loss: 0.0227 - accuracy: 0.9924 - val_loss: 2.3082 - val_accuracy: 0.5916\n",
            "Epoch 37/60\n",
            "199/199 [==============================] - ETA: 0s - loss: 0.0734 - accuracy: 0.9744\n",
            "Epoch 37: val_accuracy did not improve from 0.62744\n",
            "199/199 [==============================] - 14s 70ms/step - loss: 0.0734 - accuracy: 0.9744 - val_loss: 2.4681 - val_accuracy: 0.5853\n",
            "Epoch 38/60\n",
            "199/199 [==============================] - ETA: 0s - loss: 0.0311 - accuracy: 0.9915\n",
            "Epoch 38: val_accuracy did not improve from 0.62744\n",
            "199/199 [==============================] - 14s 70ms/step - loss: 0.0311 - accuracy: 0.9915 - val_loss: 2.4193 - val_accuracy: 0.5966\n",
            "Epoch 39/60\n",
            "199/199 [==============================] - ETA: 0s - loss: 0.0129 - accuracy: 0.9962\n",
            "Epoch 39: val_accuracy improved from 0.62744 to 0.63751, saving model to best_model.h5\n",
            "199/199 [==============================] - 15s 75ms/step - loss: 0.0129 - accuracy: 0.9962 - val_loss: 2.0945 - val_accuracy: 0.6375\n",
            "Epoch 40/60\n",
            "199/199 [==============================] - ETA: 0s - loss: 0.0112 - accuracy: 0.9970\n",
            "Epoch 40: val_accuracy improved from 0.63751 to 0.64821, saving model to best_model.h5\n",
            "199/199 [==============================] - 15s 76ms/step - loss: 0.0112 - accuracy: 0.9970 - val_loss: 2.1918 - val_accuracy: 0.6482\n",
            "Epoch 41/60\n",
            "199/199 [==============================] - ETA: 0s - loss: 0.0104 - accuracy: 0.9978\n",
            "Epoch 41: val_accuracy did not improve from 0.64821\n",
            "199/199 [==============================] - 14s 69ms/step - loss: 0.0104 - accuracy: 0.9978 - val_loss: 2.1409 - val_accuracy: 0.6482\n",
            "Epoch 42/60\n",
            "198/199 [============================>.] - ETA: 0s - loss: 0.0037 - accuracy: 0.9992\n",
            "Epoch 42: val_accuracy did not improve from 0.64821\n",
            "199/199 [==============================] - 14s 69ms/step - loss: 0.0036 - accuracy: 0.9992 - val_loss: 2.1771 - val_accuracy: 0.6400\n",
            "Epoch 43/60\n",
            "198/199 [============================>.] - ETA: 0s - loss: 0.0018 - accuracy: 0.9997\n",
            "Epoch 43: val_accuracy did not improve from 0.64821\n",
            "199/199 [==============================] - 14s 71ms/step - loss: 0.0018 - accuracy: 0.9997 - val_loss: 2.2629 - val_accuracy: 0.6300\n",
            "Epoch 44/60\n",
            "199/199 [==============================] - ETA: 0s - loss: 3.7027e-04 - accuracy: 1.0000\n",
            "Epoch 44: val_accuracy did not improve from 0.64821\n",
            "199/199 [==============================] - 14s 70ms/step - loss: 3.7027e-04 - accuracy: 1.0000 - val_loss: 2.3332 - val_accuracy: 0.6331\n",
            "Epoch 45/60\n",
            "199/199 [==============================] - ETA: 0s - loss: 1.2524e-04 - accuracy: 1.0000\n",
            "Epoch 45: val_accuracy did not improve from 0.64821\n",
            "199/199 [==============================] - 14s 70ms/step - loss: 1.2524e-04 - accuracy: 1.0000 - val_loss: 2.3592 - val_accuracy: 0.6325\n",
            "Epoch 46/60\n",
            "199/199 [==============================] - ETA: 0s - loss: 8.2969e-05 - accuracy: 1.0000\n",
            "Epoch 46: val_accuracy did not improve from 0.64821\n",
            "199/199 [==============================] - 14s 70ms/step - loss: 8.2969e-05 - accuracy: 1.0000 - val_loss: 2.3788 - val_accuracy: 0.6325\n",
            "Epoch 47/60\n",
            "199/199 [==============================] - ETA: 0s - loss: 6.4775e-05 - accuracy: 1.0000\n",
            "Epoch 47: val_accuracy did not improve from 0.64821\n",
            "199/199 [==============================] - 14s 71ms/step - loss: 6.4775e-05 - accuracy: 1.0000 - val_loss: 2.3959 - val_accuracy: 0.6337\n",
            "Epoch 48/60\n",
            "199/199 [==============================] - ETA: 0s - loss: 5.2066e-05 - accuracy: 1.0000\n",
            "Epoch 48: val_accuracy did not improve from 0.64821\n",
            "199/199 [==============================] - 14s 70ms/step - loss: 5.2066e-05 - accuracy: 1.0000 - val_loss: 2.4117 - val_accuracy: 0.6344\n",
            "Epoch 49/60\n",
            "199/199 [==============================] - ETA: 0s - loss: 4.2891e-05 - accuracy: 1.0000\n",
            "Epoch 49: val_accuracy did not improve from 0.64821\n",
            "199/199 [==============================] - 14s 70ms/step - loss: 4.2891e-05 - accuracy: 1.0000 - val_loss: 2.4264 - val_accuracy: 0.6325\n",
            "Epoch 50/60\n",
            "199/199 [==============================] - ETA: 0s - loss: 3.5972e-05 - accuracy: 1.0000\n",
            "Epoch 50: val_accuracy did not improve from 0.64821\n",
            "199/199 [==============================] - 14s 70ms/step - loss: 3.5972e-05 - accuracy: 1.0000 - val_loss: 2.4408 - val_accuracy: 0.6318\n",
            "Epoch 51/60\n",
            "199/199 [==============================] - ETA: 0s - loss: 3.0423e-05 - accuracy: 1.0000\n",
            "Epoch 51: val_accuracy did not improve from 0.64821\n",
            "199/199 [==============================] - 14s 70ms/step - loss: 3.0423e-05 - accuracy: 1.0000 - val_loss: 2.4546 - val_accuracy: 0.6306\n",
            "Epoch 52/60\n",
            "199/199 [==============================] - ETA: 0s - loss: 2.5965e-05 - accuracy: 1.0000\n",
            "Epoch 52: val_accuracy did not improve from 0.64821\n",
            "199/199 [==============================] - 14s 70ms/step - loss: 2.5965e-05 - accuracy: 1.0000 - val_loss: 2.4680 - val_accuracy: 0.6306\n",
            "Epoch 53/60\n",
            "199/199 [==============================] - ETA: 0s - loss: 2.2391e-05 - accuracy: 1.0000\n",
            "Epoch 53: val_accuracy did not improve from 0.64821\n",
            "199/199 [==============================] - 14s 70ms/step - loss: 2.2391e-05 - accuracy: 1.0000 - val_loss: 2.4808 - val_accuracy: 0.6312\n",
            "Epoch 54/60\n",
            "199/199 [==============================] - ETA: 0s - loss: 1.9472e-05 - accuracy: 1.0000\n",
            "Epoch 54: val_accuracy did not improve from 0.64821\n",
            "199/199 [==============================] - 14s 70ms/step - loss: 1.9472e-05 - accuracy: 1.0000 - val_loss: 2.4934 - val_accuracy: 0.6312\n",
            "Epoch 55/60\n",
            "199/199 [==============================] - ETA: 0s - loss: 1.6969e-05 - accuracy: 1.0000\n",
            "Epoch 55: val_accuracy did not improve from 0.64821\n",
            "199/199 [==============================] - 14s 70ms/step - loss: 1.6969e-05 - accuracy: 1.0000 - val_loss: 2.5061 - val_accuracy: 0.6318\n",
            "Epoch 56/60\n",
            "199/199 [==============================] - ETA: 0s - loss: 1.4832e-05 - accuracy: 1.0000\n",
            "Epoch 56: val_accuracy did not improve from 0.64821\n",
            "199/199 [==============================] - 14s 70ms/step - loss: 1.4832e-05 - accuracy: 1.0000 - val_loss: 2.5186 - val_accuracy: 0.6331\n",
            "Epoch 57/60\n",
            "199/199 [==============================] - ETA: 0s - loss: 1.3044e-05 - accuracy: 1.0000\n",
            "Epoch 57: val_accuracy did not improve from 0.64821\n",
            "199/199 [==============================] - 14s 70ms/step - loss: 1.3044e-05 - accuracy: 1.0000 - val_loss: 2.5311 - val_accuracy: 0.6331\n",
            "Epoch 58/60\n",
            "199/199 [==============================] - ETA: 0s - loss: 1.1475e-05 - accuracy: 1.0000\n",
            "Epoch 58: val_accuracy did not improve from 0.64821\n",
            "199/199 [==============================] - 14s 70ms/step - loss: 1.1475e-05 - accuracy: 1.0000 - val_loss: 2.5434 - val_accuracy: 0.6331\n",
            "Epoch 59/60\n",
            "199/199 [==============================] - ETA: 0s - loss: 1.0137e-05 - accuracy: 1.0000\n",
            "Epoch 59: val_accuracy did not improve from 0.64821\n",
            "199/199 [==============================] - 14s 69ms/step - loss: 1.0137e-05 - accuracy: 1.0000 - val_loss: 2.5556 - val_accuracy: 0.6337\n",
            "Epoch 60/60\n",
            "199/199 [==============================] - ETA: 0s - loss: 8.9787e-06 - accuracy: 1.0000\n",
            "Epoch 60: val_accuracy did not improve from 0.64821\n",
            "199/199 [==============================] - 14s 70ms/step - loss: 8.9787e-06 - accuracy: 1.0000 - val_loss: 2.5676 - val_accuracy: 0.6325\n"
          ]
        },
        {
          "output_type": "execute_result",
          "data": {
            "text/plain": [
              "<keras.src.callbacks.History at 0x78c63218c730>"
            ]
          },
          "metadata": {},
          "execution_count": 13
        }
      ],
      "source": [
        "model.fit(train_images, train_age_groups, validation_split=0.2, epochs=60, batch_size=32, callbacks=[model_checkpoint], shuffle=False)\n"
      ]
    },
    {
      "cell_type": "code",
      "execution_count": null,
      "metadata": {
        "id": "RCoxsF-kvMC1",
        "colab": {
          "base_uri": "https://localhost:8080/"
        },
        "outputId": "ca153552-43fc-4fe1-8940-704500e874d6"
      },
      "outputs": [
        {
          "output_type": "stream",
          "name": "stdout",
          "text": [
            "63/63 [==============================] - 2s 31ms/step - loss: 2.1241 - accuracy: 0.6452\n",
            "Test Accuracy: 64.52%\n"
          ]
        }
      ],
      "source": [
        "# Load the best model\n",
        "model.load_weights('/content/drive/MyDrive/Dataset/D3_CNN2_A3.h5')\n",
        "\n",
        "# Evaluate the model\n",
        "test_loss, test_accuracy = model.evaluate(test_images, test_age_groups)\n",
        "print(f'Test Accuracy: {test_accuracy * 100:.2f}%')\n"
      ]
    },
    {
      "cell_type": "code",
      "source": [
        "\n",
        "predictions = model.predict(test_images)\n",
        "\n",
        "# Convert predictions to class labels if needed\n",
        "predicted_classes = np.argmax(predictions, axis=1)\n",
        "true_classes = np.argmax(test_age_groups, axis=1)"
      ],
      "metadata": {
        "id": "nwhXnZgsFAcO",
        "colab": {
          "base_uri": "https://localhost:8080/"
        },
        "outputId": "6bd2693f-2ed2-403e-b29f-11500679cf7e"
      },
      "execution_count": null,
      "outputs": [
        {
          "output_type": "stream",
          "name": "stdout",
          "text": [
            "63/63 [==============================] - 2s 23ms/step\n"
          ]
        }
      ]
    },
    {
      "cell_type": "code",
      "source": [
        "# Example metrics calculation\n",
        "from sklearn.metrics import classification_report\n",
        "\n",
        "print(classification_report(true_classes, predicted_classes))"
      ],
      "metadata": {
        "id": "ZJK9VKmTH99w",
        "colab": {
          "base_uri": "https://localhost:8080/"
        },
        "outputId": "00c58ee0-dce7-4cf2-dd60-7dcdbc796782"
      },
      "execution_count": null,
      "outputs": [
        {
          "output_type": "stream",
          "name": "stdout",
          "text": [
            "              precision    recall  f1-score   support\n",
            "\n",
            "           0       0.89      0.88      0.88       379\n",
            "           1       0.63      0.62      0.62       240\n",
            "           2       0.62      0.55      0.58       277\n",
            "           3       0.48      0.65      0.55       234\n",
            "           4       0.56      0.52      0.54       339\n",
            "           5       0.61      0.61      0.61       340\n",
            "           6       0.72      0.63      0.67       178\n",
            "\n",
            "    accuracy                           0.65      1987\n",
            "   macro avg       0.64      0.64      0.64      1987\n",
            "weighted avg       0.65      0.65      0.65      1987\n",
            "\n"
          ]
        }
      ]
    },
    {
      "cell_type": "code",
      "source": [
        "# Calculate classification metrics\n",
        "accuracy = accuracy_score(true_classes, predicted_classes)\n",
        "precision = precision_score(true_classes, predicted_classes, average='weighted')\n",
        "recall = recall_score(true_classes, predicted_classes, average='weighted')\n",
        "f1 = f1_score(true_classes, predicted_classes, average='weighted')\n",
        "\n",
        "print(f\"Accuracy: {accuracy:.2f}\")\n",
        "print(f\"Precision: {precision:.2f}\")\n",
        "print(f\"Recall: {recall:.2f}\")\n",
        "print(f\"F1-score: {f1:.2f}\")"
      ],
      "metadata": {
        "id": "q-BJkYS1Ie2g",
        "colab": {
          "base_uri": "https://localhost:8080/"
        },
        "outputId": "72ff410c-56db-4a87-9e18-2cd3767c73f3"
      },
      "execution_count": null,
      "outputs": [
        {
          "output_type": "stream",
          "name": "stdout",
          "text": [
            "Accuracy: 0.65\n",
            "Precision: 0.65\n",
            "Recall: 0.65\n",
            "F1-score: 0.65\n"
          ]
        }
      ]
    },
    {
      "cell_type": "code",
      "source": [
        "# Calculate accuracy for each class\n",
        "class_accuracies = {}\n",
        "for idx, (start, end) in enumerate(age_ranges):\n",
        "    # Filter predictions and true labels for the current class\n",
        "    mask = (true_classes == idx)\n",
        "    accuracy = accuracy_score(true_classes[mask], predicted_classes[mask])\n",
        "    class_accuracies[f'{start}-{end}'] = accuracy"
      ],
      "metadata": {
        "id": "5aFw8azILmct"
      },
      "execution_count": null,
      "outputs": []
    },
    {
      "cell_type": "code",
      "source": [
        "# Print accuracy for each class\n",
        "for age_range, accuracy in class_accuracies.items():\n",
        "    print(f'Accuracy for age range {age_range}: {accuracy:.2f}')"
      ],
      "metadata": {
        "colab": {
          "base_uri": "https://localhost:8080/"
        },
        "id": "iiL5iWmRL1I1",
        "outputId": "67b5159d-b4ba-4bfa-d60e-eed2e55e31bd"
      },
      "execution_count": null,
      "outputs": [
        {
          "output_type": "stream",
          "name": "stdout",
          "text": [
            "Accuracy for age range 1-2: 0.88\n",
            "Accuracy for age range 3-9: 0.62\n",
            "Accuracy for age range 10-20: 0.55\n",
            "Accuracy for age range 21-27: 0.65\n",
            "Accuracy for age range 28-45: 0.52\n",
            "Accuracy for age range 46-65: 0.61\n",
            "Accuracy for age range 66-116: 0.63\n"
          ]
        }
      ]
    },
    {
      "cell_type": "code",
      "source": [
        "from sklearn.metrics import confusion_matrix\n",
        "# Detailed classification report\n",
        "print('\\nClassification Report:')\n",
        "print(classification_report(true_classes, predicted_classes, target_names=[f'{start}-{end}' for start, end in age_ranges]))\n",
        "\n",
        "# Confusion Matrix\n",
        "print('\\nConfusion Matrix:')\n",
        "print(confusion_matrix(true_classes, predicted_classes))"
      ],
      "metadata": {
        "colab": {
          "base_uri": "https://localhost:8080/"
        },
        "id": "9jl5ya0oL92g",
        "outputId": "7adaff0b-2e08-49af-a8b7-f8699ca426e7"
      },
      "execution_count": null,
      "outputs": [
        {
          "output_type": "stream",
          "name": "stdout",
          "text": [
            "\n",
            "Classification Report:\n",
            "              precision    recall  f1-score   support\n",
            "\n",
            "         1-2       0.89      0.88      0.88       379\n",
            "         3-9       0.63      0.62      0.62       240\n",
            "       10-20       0.62      0.55      0.58       277\n",
            "       21-27       0.48      0.65      0.55       234\n",
            "       28-45       0.56      0.52      0.54       339\n",
            "       46-65       0.61      0.61      0.61       340\n",
            "      66-116       0.72      0.63      0.67       178\n",
            "\n",
            "    accuracy                           0.65      1987\n",
            "   macro avg       0.64      0.64      0.64      1987\n",
            "weighted avg       0.65      0.65      0.65      1987\n",
            "\n",
            "\n",
            "Confusion Matrix:\n",
            "[[333  38   2   3   2   1   0]\n",
            " [ 36 149  39   9   3   1   3]\n",
            " [  0  37 151  70  15   1   3]\n",
            " [  3   5  18 153  50   5   0]\n",
            " [  2   1  13  72 175  74   2]\n",
            " [  0   6  14  11  64 209  36]\n",
            " [  0   2   6   0   5  53 112]]\n"
          ]
        }
      ]
    }
  ]
}