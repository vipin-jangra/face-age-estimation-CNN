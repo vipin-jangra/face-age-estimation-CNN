{
  "nbformat": 4,
  "nbformat_minor": 0,
  "metadata": {
    "colab": {
      "provenance": [],
      "gpuType": "V28",
      "authorship_tag": "ABX9TyMEO/aAaTZhrbGaUsChcY99",
      "include_colab_link": true
    },
    "kernelspec": {
      "name": "python3",
      "display_name": "Python 3"
    },
    "language_info": {
      "name": "python"
    },
    "accelerator": "TPU"
  },
  "cells": [
    {
      "cell_type": "markdown",
      "metadata": {
        "id": "view-in-github",
        "colab_type": "text"
      },
      "source": [
        "<a href=\"https://colab.research.google.com/github/vipin-jangra/face-age-estimation-CNN/blob/main/Utk_Dataset_preprocess.ipynb\" target=\"_parent\"><img src=\"https://colab.research.google.com/assets/colab-badge.svg\" alt=\"Open In Colab\"/></a>"
      ]
    },
    {
      "cell_type": "code",
      "source": [
        "import os\n",
        "from zipfile import ZipFile\n",
        "import shutil\n",
        "import pandas as pd\n",
        "from PIL import Image\n",
        "from sklearn.model_selection import train_test_split"
      ],
      "metadata": {
        "id": "QlFiF1d8ufps"
      },
      "execution_count": 5,
      "outputs": []
    },
    {
      "cell_type": "code",
      "source": [
        "from google.colab import drive\n",
        "\n",
        "drive.mount('/content/drive')"
      ],
      "metadata": {
        "colab": {
          "base_uri": "https://localhost:8080/"
        },
        "id": "IWcs6_iTtBdc",
        "outputId": "4f783987-4f63-4981-8c08-17c49cbfd6af"
      },
      "execution_count": 6,
      "outputs": [
        {
          "output_type": "stream",
          "name": "stdout",
          "text": [
            "Drive already mounted at /content/drive; to attempt to forcibly remount, call drive.mount(\"/content/drive\", force_remount=True).\n"
          ]
        }
      ]
    },
    {
      "cell_type": "code",
      "source": [
        "#Unzipping the dataset file combined_faces.zip\n",
        "\n",
        "faces_zip_path = \"/content/drive/MyDrive/Dataset/Dataset2/crop_part1.zip\";\n",
        "\n",
        "with ZipFile(faces_zip_path, 'r') as myzip:\n",
        "    myzip.extractall()\n",
        "    print('Done unzipping faces.zip')"
      ],
      "metadata": {
        "colab": {
          "base_uri": "https://localhost:8080/"
        },
        "id": "-w581L5mukUU",
        "outputId": "a3e99ff4-9323-4af9-de0f-f3d3f6879485"
      },
      "execution_count": 7,
      "outputs": [
        {
          "output_type": "stream",
          "name": "stdout",
          "text": [
            "Done unzipping faces.zip\n"
          ]
        }
      ]
    },
    {
      "cell_type": "code",
      "source": [
        "# Define age ranges\n",
        "age_ranges = [(1, 2), (3, 9), (10, 20), (21, 27), (28, 45), (46, 65), (66, 116)]"
      ],
      "metadata": {
        "id": "k2J4p_NW89Lg"
      },
      "execution_count": 8,
      "outputs": []
    },
    {
      "cell_type": "code",
      "source": [
        "def categorize_age(age):\n",
        "    for range_name, (start, end) in enumerate(age_ranges):\n",
        "        if start <= age <= end:\n",
        "            return range_name\n",
        "    return None"
      ],
      "metadata": {
        "id": "_0kOC7IH9nmy"
      },
      "execution_count": 9,
      "outputs": []
    },
    {
      "cell_type": "code",
      "source": [
        "dataset_dir = '/content/crop_part1'\n",
        "# Get the list of all image file paths\n",
        "\n",
        "image_paths = [os.path.join(dataset_dir, fname) for fname in os.listdir(dataset_dir) if fname.endswith('.jpg')]\n",
        "print(f\"Images shape: {len(image_paths)}\")"
      ],
      "metadata": {
        "colab": {
          "base_uri": "https://localhost:8080/"
        },
        "id": "CiBDSaj2x3Ky",
        "outputId": "3570ba08-a706-4e9d-f370-ec02772a13b1"
      },
      "execution_count": 10,
      "outputs": [
        {
          "output_type": "stream",
          "name": "stdout",
          "text": [
            "Images shape: 9780\n"
          ]
        }
      ]
    },
    {
      "cell_type": "code",
      "source": [
        "dataset_path = '/content/crop_part1'  # Change this to your dataset folder\n",
        "# Extract age labels from filenames\n",
        "ages = [int(fname.split('_')[0]) for fname in os.listdir(dataset_path) if fname.endswith('.jpg')]\n",
        "print(f\"Ages shape: {len(ages)}\")"
      ],
      "metadata": {
        "colab": {
          "base_uri": "https://localhost:8080/"
        },
        "id": "lyJQccQkw-Ge",
        "outputId": "f05f128e-96d8-4053-834c-29d2f731c40e"
      },
      "execution_count": 11,
      "outputs": [
        {
          "output_type": "stream",
          "name": "stdout",
          "text": [
            "Ages shape: 9780\n"
          ]
        }
      ]
    },
    {
      "cell_type": "code",
      "source": [
        "# Categorize ages into ranges\n",
        "age_categories = [categorize_age(age) for age in ages]"
      ],
      "metadata": {
        "id": "a7LVEddzxPNL"
      },
      "execution_count": 12,
      "outputs": []
    },
    {
      "cell_type": "code",
      "source": [
        "import collections\n",
        "# Function to print the distribution of age ranges\n",
        "def print_age_distribution(labels, dataset_type):\n",
        "    counter = collections.Counter(labels)\n",
        "    print(f\"{dataset_type} Age Distribution:\")\n",
        "    for age_range, count in counter.items():\n",
        "        print(f\"Age range {age_range}: {count} samples\")"
      ],
      "metadata": {
        "id": "BHsybyxoyhT-"
      },
      "execution_count": 13,
      "outputs": []
    },
    {
      "cell_type": "code",
      "execution_count": 20,
      "metadata": {
        "colab": {
          "base_uri": "https://localhost:8080/"
        },
        "id": "DRrBuyogrulE",
        "outputId": "539715e1-7dc8-45bc-ccc2-b69bc982e87c"
      },
      "outputs": [
        {
          "output_type": "stream",
          "name": "stdout",
          "text": [
            "Training Age Distribution:\n",
            "Age range 85: 105 samples\n",
            "Age range 5: 140 samples\n",
            "Age range 63: 39 samples\n",
            "Age range 13: 58 samples\n",
            "Age range 32: 114 samples\n",
            "Age range 1: 897 samples\n",
            "Age range 22: 109 samples\n",
            "Age range 25: 129 samples\n",
            "Age range 2: 373 samples\n",
            "Age range 40: 69 samples\n",
            "Age range 72: 56 samples\n",
            "Age range 53: 112 samples\n",
            "Age range 27: 101 samples\n",
            "Age range 24: 156 samples\n",
            "Age range 4: 208 samples\n",
            "Age range 14: 109 samples\n",
            "Age range 78: 25 samples\n",
            "Age range 62: 59 samples\n",
            "Age range 3: 225 samples\n",
            "Age range 31: 67 samples\n",
            "Age range 21: 106 samples\n",
            "Age range 52: 104 samples\n",
            "Age range 71: 17 samples\n",
            "Age range 39: 107 samples\n",
            "Age range 80: 59 samples\n",
            "Age range 17: 91 samples\n",
            "Age range 26: 225 samples\n",
            "Age range 75: 76 samples\n",
            "Age range 68: 44 samples\n",
            "Age range 66: 44 samples\n",
            "Age range 15: 114 samples\n",
            "Age range 47: 59 samples\n",
            "Age range 41: 47 samples\n",
            "Age range 29: 118 samples\n",
            "Age range 59: 49 samples\n",
            "Age range 44: 26 samples\n",
            "Age range 9: 124 samples\n",
            "Age range 48: 54 samples\n",
            "Age range 42: 65 samples\n",
            "Age range 10: 110 samples\n",
            "Age range 8: 194 samples\n",
            "Age range 50: 78 samples\n",
            "Age range 90: 46 samples\n",
            "Age range 18: 150 samples\n",
            "Age range 54: 82 samples\n",
            "Age range 96: 11 samples\n",
            "Age range 7: 100 samples\n",
            "Age range 60: 109 samples\n",
            "Age range 20: 81 samples\n",
            "Age range 16: 167 samples\n",
            "Age range 23: 69 samples\n",
            "Age range 12: 80 samples\n",
            "Age range 70: 39 samples\n",
            "Age range 34: 72 samples\n",
            "Age range 46: 43 samples\n",
            "Age range 56: 97 samples\n",
            "Age range 11: 52 samples\n",
            "Age range 35: 100 samples\n",
            "Age range 38: 69 samples\n",
            "Age range 30: 88 samples\n",
            "Age range 58: 84 samples\n",
            "Age range 65: 91 samples\n",
            "Age range 45: 60 samples\n",
            "Age range 64: 24 samples\n",
            "Age range 33: 32 samples\n",
            "Age range 89: 13 samples\n",
            "Age range 28: 118 samples\n",
            "Age range 61: 40 samples\n",
            "Age range 87: 4 samples\n",
            "Age range 43: 41 samples\n",
            "Age range 36: 96 samples\n",
            "Age range 67: 37 samples\n",
            "Age range 37: 79 samples\n",
            "Age range 19: 45 samples\n",
            "Age range 6: 96 samples\n",
            "Age range 55: 44 samples\n",
            "Age range 51: 50 samples\n",
            "Age range 49: 84 samples\n",
            "Age range 57: 45 samples\n",
            "Age range 88: 16 samples\n",
            "Age range 79: 15 samples\n",
            "Age range 86: 19 samples\n",
            "Age range 77: 14 samples\n",
            "Age range 91: 1 samples\n",
            "Age range 69: 38 samples\n",
            "Age range 82: 22 samples\n",
            "Age range 76: 24 samples\n",
            "Age range 81: 9 samples\n",
            "Age range 73: 21 samples\n",
            "Age range 84: 10 samples\n",
            "Age range 74: 13 samples\n",
            "Age range 92: 8 samples\n",
            "Age range 83: 3 samples\n",
            "Age range 110: 2 samples\n",
            "Age range 95: 3 samples\n",
            "Age range 100: 2 samples\n",
            "Age range 93: 2 samples\n",
            "Age range 99: 2 samples\n",
            "Validation Age Distribution:\n",
            "Age range 47: 11 samples\n",
            "Age range 65: 22 samples\n",
            "Age range 35: 21 samples\n",
            "Age range 50: 27 samples\n",
            "Age range 49: 15 samples\n",
            "Age range 1: 215 samples\n",
            "Age range 56: 35 samples\n",
            "Age range 5: 40 samples\n",
            "Age range 8: 42 samples\n",
            "Age range 21: 30 samples\n",
            "Age range 77: 5 samples\n",
            "Age range 12: 26 samples\n",
            "Age range 7: 26 samples\n",
            "Age range 9: 35 samples\n",
            "Age range 2: 102 samples\n",
            "Age range 40: 16 samples\n",
            "Age range 16: 45 samples\n",
            "Age range 54: 24 samples\n",
            "Age range 85: 25 samples\n",
            "Age range 45: 17 samples\n",
            "Age range 29: 32 samples\n",
            "Age range 23: 23 samples\n",
            "Age range 25: 27 samples\n",
            "Age range 72: 14 samples\n",
            "Age range 52: 29 samples\n",
            "Age range 26: 54 samples\n",
            "Age range 4: 52 samples\n",
            "Age range 38: 22 samples\n",
            "Age range 28: 27 samples\n",
            "Age range 11: 11 samples\n",
            "Age range 41: 9 samples\n",
            "Age range 30: 21 samples\n",
            "Age range 57: 15 samples\n",
            "Age range 60: 28 samples\n",
            "Age range 34: 15 samples\n",
            "Age range 22: 30 samples\n",
            "Age range 67: 10 samples\n",
            "Age range 18: 31 samples\n",
            "Age range 70: 14 samples\n",
            "Age range 3: 59 samples\n",
            "Age range 36: 16 samples\n",
            "Age range 17: 12 samples\n",
            "Age range 33: 14 samples\n",
            "Age range 15: 29 samples\n",
            "Age range 58: 12 samples\n",
            "Age range 53: 21 samples\n",
            "Age range 83: 4 samples\n",
            "Age range 14: 28 samples\n",
            "Age range 10: 30 samples\n",
            "Age range 69: 7 samples\n",
            "Age range 13: 17 samples\n",
            "Age range 6: 18 samples\n",
            "Age range 92: 5 samples\n",
            "Age range 37: 15 samples\n",
            "Age range 75: 11 samples\n",
            "Age range 90: 10 samples\n",
            "Age range 68: 14 samples\n",
            "Age range 27: 25 samples\n",
            "Age range 66: 10 samples\n",
            "Age range 46: 18 samples\n",
            "Age range 73: 10 samples\n",
            "Age range 24: 35 samples\n",
            "Age range 51: 12 samples\n",
            "Age range 82: 7 samples\n",
            "Age range 48: 10 samples\n",
            "Age range 43: 11 samples\n",
            "Age range 62: 17 samples\n",
            "Age range 80: 12 samples\n",
            "Age range 20: 22 samples\n",
            "Age range 42: 19 samples\n",
            "Age range 96: 5 samples\n",
            "Age range 19: 13 samples\n",
            "Age range 71: 5 samples\n",
            "Age range 101: 1 samples\n",
            "Age range 31: 30 samples\n",
            "Age range 63: 8 samples\n",
            "Age range 32: 27 samples\n",
            "Age range 76: 11 samples\n",
            "Age range 59: 10 samples\n",
            "Age range 39: 29 samples\n",
            "Age range 64: 5 samples\n",
            "Age range 55: 8 samples\n",
            "Age range 44: 1 samples\n",
            "Age range 74: 3 samples\n",
            "Age range 61: 10 samples\n",
            "Age range 89: 3 samples\n",
            "Age range 78: 5 samples\n",
            "Age range 93: 1 samples\n",
            "Age range 86: 4 samples\n",
            "Age range 81: 1 samples\n",
            "Age range 88: 1 samples\n",
            "Age range 79: 1 samples\n",
            "Age range 84: 1 samples\n",
            "Dataset processed and split into '/content/UTKDataset/train' and '/content/UTKDataset/test' with labels saved as CSV.\n"
          ]
        }
      ],
      "source": [
        "\n",
        "\n",
        "def preprocess_and_split_dataset(dataset_path, output_path, resize_dim=(224, 224), test_size=0.2):\n",
        "    # Create output directories for training and testing\n",
        "    train_dir = os.path.join(output_path, 'train')\n",
        "    test_dir = os.path.join(output_path, 'test')\n",
        "    os.makedirs(train_dir, exist_ok=True)\n",
        "    os.makedirs(test_dir, exist_ok=True)\n",
        "\n",
        "\n",
        "    # Preprocess and resize images\n",
        "    processed_images = []\n",
        "    for img_path in image_paths:\n",
        "        try:\n",
        "            img = Image.open(img_path)  # Open the image\n",
        "            img = img.convert('L')  # Convert to grayscale\n",
        "            img = img.resize(resize_dim)  # Resize image\n",
        "            processed_images.append((img, os.path.basename(img_path)))  # Store processed image and filename\n",
        "        except Exception as e:\n",
        "            print(f\"Error processing {img_path}: {e}\")\n",
        "\n",
        "    # Split the dataset into training and testing sets\n",
        "    train_images, test_images, train_labels, test_labels = train_test_split(\n",
        "        image_paths, ages,stratify=age_categories, test_size=test_size, random_state=42\n",
        "    )\n",
        "\n",
        "        # Print distribution for training set\n",
        "    print_age_distribution(train_labels, \"Training\")\n",
        "\n",
        "    # Print distribution for validation set\n",
        "    print_age_distribution(test_labels, \"Validation\")\n",
        "\n",
        "    # Save training images and create train CSV\n",
        "    train_data = []\n",
        "    for img_path, label in zip(train_images, ages):\n",
        "        try:\n",
        "            img = Image.open(img_path)  # Open the image\n",
        "            img = img.convert('L')  # Convert to grayscale\n",
        "            img = img.resize(resize_dim)  # Resize image\n",
        "            img.save(os.path.join(train_dir, os.path.basename(img_path)))  # Save image to train folder\n",
        "            train_data.append({'filepath': os.path.join(train_dir, os.path.basename(img_path)), 'age': label})  # Full path\n",
        "        except Exception as e:\n",
        "            print(f\"Error processing {img_path}: {e}\")\n",
        "\n",
        "    train_df = pd.DataFrame(train_data)\n",
        "    train_df.to_csv(os.path.join(output_path, 'train_labels.csv'), index=False)\n",
        "\n",
        "    # Save testing images and create test CSV\n",
        "    test_data = []\n",
        "    for img_path, label in zip(test_images, test_labels):\n",
        "        try:\n",
        "            img = Image.open(img_path)  # Open the image\n",
        "            img = img.convert('L')  # Convert to grayscale\n",
        "            img = img.resize(resize_dim)  # Resize image\n",
        "            img.save(os.path.join(test_dir, os.path.basename(img_path)))  # Save image to test folder\n",
        "            test_data.append({'filepath': os.path.join(test_dir, os.path.basename(img_path)), 'age': label})  # Full path\n",
        "        except Exception as e:\n",
        "            print(f\"Error processing {img_path}: {e}\")\n",
        "\n",
        "    test_df = pd.DataFrame(test_data)\n",
        "    test_df.to_csv(os.path.join(output_path, 'test_labels.csv'), index=False)\n",
        "\n",
        "\n",
        "    print(f\"Dataset processed and split into '{train_dir}' and '{test_dir}' with labels saved as CSV.\")\n",
        "\n",
        "\n",
        "\n",
        "\n",
        "# Example usage\n",
        "\n",
        "output_path = '/content/UTKDataset'   # Change this to your output folder\n",
        "preprocess_and_split_dataset(dataset_path, output_path)\n"
      ]
    },
    {
      "cell_type": "code",
      "source": [
        "def count_images_by_age_category(folder_path, labels_csv):\n",
        "    # Read the labels from CSV\n",
        "    df = pd.read_csv(labels_csv)\n",
        "\n",
        "    # Initialize a counter for each age category\n",
        "    age_category_count = [0] * len(age_ranges)\n",
        "\n",
        "    # Count images according to age categories\n",
        "    for _, row in df.iterrows():\n",
        "        age_category = categorize_age(row['age'])\n",
        "        if age_category is not None:\n",
        "            age_category_count[age_category] += 1\n",
        "\n",
        "    return age_category_count"
      ],
      "metadata": {
        "id": "GhH64xcy8Uum"
      },
      "execution_count": 21,
      "outputs": []
    },
    {
      "cell_type": "code",
      "source": [
        "# Example usage\n",
        "output_path = '/content/UTKDataset'  # Change this to your output folder path\n",
        "\n",
        "# Count images in training set\n",
        "train_labels_csv = os.path.join(output_path, 'train_labels.csv')\n",
        "train_age_counts = count_images_by_age_category(os.path.join(output_path, 'train'), train_labels_csv)\n",
        "\n",
        "# Count images in testing set\n",
        "test_labels_csv = os.path.join(output_path, 'test_labels.csv')\n",
        "test_age_counts = count_images_by_age_category(os.path.join(output_path, 'test'), test_labels_csv)\n"
      ],
      "metadata": {
        "id": "82IzVhp_9p2u"
      },
      "execution_count": 22,
      "outputs": []
    },
    {
      "cell_type": "code",
      "source": [
        "# Print the results\n",
        "print(\"Training Age Category Counts:\", train_age_counts)\n",
        "print(\"Testing Age Category Counts:\", test_age_counts)"
      ],
      "metadata": {
        "colab": {
          "base_uri": "https://localhost:8080/"
        },
        "id": "QWNYso-J9sZU",
        "outputId": "d42ea43b-9178-4f58-f55d-aeafb9e971d0"
      },
      "execution_count": 23,
      "outputs": [
        {
          "output_type": "stream",
          "name": "stdout",
          "text": [
            "Training Age Category Counts: [1260, 1070, 1054, 885, 1393, 1378, 784]\n",
            "Testing Age Category Counts: [317, 272, 264, 224, 342, 337, 200]\n"
          ]
        }
      ]
    },
    {
      "cell_type": "code",
      "source": [
        "# Optionally, you can print out the counts in a more readable format\n",
        "for idx, (start, end) in enumerate(age_ranges):\n",
        "    print(f\"Age {start}-{end}: Train: {train_age_counts[idx]}, Test: {test_age_counts[idx]}\")"
      ],
      "metadata": {
        "colab": {
          "base_uri": "https://localhost:8080/"
        },
        "id": "uYL53HrC9u8l",
        "outputId": "5b364027-2c97-4c3e-fa91-2d3633fe69ad"
      },
      "execution_count": 24,
      "outputs": [
        {
          "output_type": "stream",
          "name": "stdout",
          "text": [
            "Age 1-2: Train: 1260, Test: 317\n",
            "Age 3-9: Train: 1070, Test: 272\n",
            "Age 10-20: Train: 1054, Test: 264\n",
            "Age 21-27: Train: 885, Test: 224\n",
            "Age 28-45: Train: 1393, Test: 342\n",
            "Age 46-65: Train: 1378, Test: 337\n",
            "Age 66-116: Train: 784, Test: 200\n"
          ]
        }
      ]
    },
    {
      "cell_type": "code",
      "source": [
        "import matplotlib.pyplot as plt\n",
        "\n",
        "# Function to plot age category distribution\n",
        "def plot_age_category_distribution(train_counts, test_counts):\n",
        "    # Define age range labels for plotting\n",
        "    age_labels = [f\"{start}-{end}\" for start, end in age_ranges]\n",
        "\n",
        "    # Set the bar width\n",
        "    bar_width = 0.35\n",
        "\n",
        "    # Define the x-axis positions\n",
        "    x = range(len(age_labels))\n",
        "\n",
        "    # Create a bar plot\n",
        "    plt.figure(figsize=(10, 6))\n",
        "    plt.bar(x, train_counts, width=bar_width, label='Training', color='b', alpha=0.7)\n",
        "    plt.bar([p + bar_width for p in x], test_counts, width=bar_width, label='Testing', color='r', alpha=0.7)\n",
        "\n",
        "    # Adding labels and title\n",
        "    plt.xlabel('Age Categories')\n",
        "    plt.ylabel('Number of Images')\n",
        "    plt.title('Image Count Distribution by Age Categories')\n",
        "    plt.xticks([p + bar_width / 2 for p in x], age_labels)\n",
        "    plt.legend()\n",
        "\n",
        "    # Show the plot\n",
        "    plt.tight_layout()\n",
        "    plt.show()\n",
        "\n",
        "# Example usage\n",
        "plot_age_category_distribution(train_age_counts, test_age_counts)\n"
      ],
      "metadata": {
        "colab": {
          "base_uri": "https://localhost:8080/",
          "height": 468
        },
        "id": "hlug2Ttl_PRB",
        "outputId": "f143e32e-18fb-4675-c4b1-5f0f9c60a47b"
      },
      "execution_count": 26,
      "outputs": [
        {
          "output_type": "display_data",
          "data": {
            "text/plain": [
              "<Figure size 1000x600 with 1 Axes>"
            ],
            "image/png": "[encoded data removed]"
          },
          "metadata": {}
        }
      ]
    },
    {
      "cell_type": "code",
      "source": [
        "import shutil\n",
        "\n",
        "# Path to the output folder where 'train' and 'test' directories are created\n",
        "output_path = '/content/UTKDataset'  # Change this to your output folder path\n",
        "shutil.make_archive(output_path, 'zip', output_path)\n",
        "\n",
        "from google.colab import files\n",
        "files.download(output_path + '.zip')  # Download the zip file\n"
      ],
      "metadata": {
        "colab": {
          "base_uri": "https://localhost:8080/",
          "height": 17
        },
        "id": "Y9Yvpujz1rts",
        "outputId": "3542ea7b-5732-4afd-b692-43982b62c21a"
      },
      "execution_count": 25,
      "outputs": [
        {
          "output_type": "display_data",
          "data": {
            "text/plain": [
              "<IPython.core.display.Javascript object>"
            ],
            "application/javascript": [
              "\n",
              "    async function download(id, filename, size) {\n",
              "      if (!google.colab.kernel.accessAllowed) {\n",
              "        return;\n",
              "      }\n",
              "      const div = document.createElement('div');\n",
              "      const label = document.createElement('label');\n",
              "      label.textContent = `Downloading \"${filename}\": `;\n",
              "      div.appendChild(label);\n",
              "      const progress = document.createElement('progress');\n",
              "      progress.max = size;\n",
              "      div.appendChild(progress);\n",
              "      document.body.appendChild(div);\n",
              "\n",
              "      const buffers = [];\n",
              "      let downloaded = 0;\n",
              "\n",
              "      const channel = await google.colab.kernel.comms.open(id);\n",
              "      // Send a message to notify the kernel that we're ready.\n",
              "      channel.send({})\n",
              "\n",
              "      for await (const message of channel.messages) {\n",
              "        // Send a message to notify the kernel that we're ready.\n",
              "        channel.send({})\n",
              "        if (message.buffers) {\n",
              "          for (const buffer of message.buffers) {\n",
              "            buffers.push(buffer);\n",
              "            downloaded += buffer.byteLength;\n",
              "            progress.value = downloaded;\n",
              "          }\n",
              "        }\n",
              "      }\n",
              "      const blob = new Blob(buffers, {type: 'application/binary'});\n",
              "      const a = document.createElement('a');\n",
              "      a.href = window.URL.createObjectURL(blob);\n",
              "      a.download = filename;\n",
              "      div.appendChild(a);\n",
              "      a.click();\n",
              "      div.remove();\n",
              "    }\n",
              "  "
            ]
          },
          "metadata": {}
        },
        {
          "output_type": "display_data",
          "data": {
            "text/plain": [
              "<IPython.core.display.Javascript object>"
            ],
            "application/javascript": [
              "download(\"download_ca32a5bf-12d1-4ec5-a938-f11ecc66923c\", \"UTKDataset.zip\", 49471440)"
            ]
          },
          "metadata": {}
        }
      ]
    }
  ]
}