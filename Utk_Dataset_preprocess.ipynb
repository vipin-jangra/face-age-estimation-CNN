{
  "nbformat": 4,
  "nbformat_minor": 0,
  "metadata": {
    "colab": {
      "provenance": [],
      "gpuType": "V28",
      "authorship_tag": "ABX9TyNZnCX39UYoGj9sivb8UqVy",
      "include_colab_link": true
    },
    "kernelspec": {
      "name": "python3",
      "display_name": "Python 3"
    },
    "language_info": {
      "name": "python"
    },
    "accelerator": "TPU"
  },
  "cells": [
    {
      "cell_type": "markdown",
      "metadata": {
        "id": "view-in-github",
        "colab_type": "text"
      },
      "source": [
        "<a href=\"https://colab.research.google.com/github/vipin-jangra/face-age-estimation-CNN/blob/main/Utk_Dataset_preprocess.ipynb\" target=\"_parent\"><img src=\"https://colab.research.google.com/assets/colab-badge.svg\" alt=\"Open In Colab\"/></a>"
      ]
    },
    {
      "cell_type": "code",
      "source": [
        "import os\n",
        "from zipfile import ZipFile\n",
        "import shutil\n",
        "import pandas as pd\n",
        "from PIL import Image\n",
        "from sklearn.model_selection import train_test_split"
      ],
      "metadata": {
        "id": "QlFiF1d8ufps"
      },
      "execution_count": 5,
      "outputs": []
    },
    {
      "cell_type": "code",
      "source": [
        "from google.colab import drive\n",
        "\n",
        "drive.mount('/content/drive')"
      ],
      "metadata": {
        "colab": {
          "base_uri": "https://localhost:8080/"
        },
        "id": "IWcs6_iTtBdc",
        "outputId": "4f783987-4f63-4981-8c08-17c49cbfd6af"
      },
      "execution_count": 6,
      "outputs": [
        {
          "output_type": "stream",
          "name": "stdout",
          "text": [
            "Drive already mounted at /content/drive; to attempt to forcibly remount, call drive.mount(\"/content/drive\", force_remount=True).\n"
          ]
        }
      ]
    },
    {
      "cell_type": "code",
      "source": [
        "#Unzipping the dataset file combined_faces.zip\n",
        "\n",
        "faces_zip_path = \"/content/drive/MyDrive/Dataset/Dataset2/crop_part1.zip\";\n",
        "\n",
        "with ZipFile(faces_zip_path, 'r') as myzip:\n",
        "    myzip.extractall()\n",
        "    print('Done unzipping faces.zip')"
      ],
      "metadata": {
        "colab": {
          "base_uri": "https://localhost:8080/"
        },
        "id": "-w581L5mukUU",
        "outputId": "a3e99ff4-9323-4af9-de0f-f3d3f6879485"
      },
      "execution_count": 7,
      "outputs": [
        {
          "output_type": "stream",
          "name": "stdout",
          "text": [
            "Done unzipping faces.zip\n"
          ]
        }
      ]
    },
    {
      "cell_type": "code",
      "source": [
        "# Define age ranges\n",
        "age_ranges = [(1, 2), (3, 9), (10, 20), (21, 27), (28, 45), (46, 65), (66, 116)]"
      ],
      "metadata": {
        "id": "k2J4p_NW89Lg"
      },
      "execution_count": 8,
      "outputs": []
    },
    {
      "cell_type": "code",
      "source": [
        "def categorize_age(age):\n",
        "    for range_name, (start, end) in enumerate(age_ranges):\n",
        "        if start <= age <= end:\n",
        "            return range_name\n",
        "    return None"
      ],
      "metadata": {
        "id": "_0kOC7IH9nmy"
      },
      "execution_count": 9,
      "outputs": []
    },
    {
      "cell_type": "code",
      "source": [
        "dataset_dir = '/content/crop_part1'\n",
        "# Get the list of all image file paths\n",
        "\n",
        "image_paths = [os.path.join(dataset_dir, fname) for fname in os.listdir(dataset_dir) if fname.endswith('.jpg')]\n",
        "print(f\"Images shape: {len(image_paths)}\")"
      ],
      "metadata": {
        "colab": {
          "base_uri": "https://localhost:8080/"
        },
        "id": "CiBDSaj2x3Ky",
        "outputId": "3570ba08-a706-4e9d-f370-ec02772a13b1"
      },
      "execution_count": 10,
      "outputs": [
        {
          "output_type": "stream",
          "name": "stdout",
          "text": [
            "Images shape: 9780\n"
          ]
        }
      ]
    },
    {
      "cell_type": "code",
      "source": [
        "dataset_path = '/content/crop_part1'  # Change this to your dataset folder\n",
        "# Extract age labels from filenames\n",
        "ages = [int(fname.split('_')[0]) for fname in os.listdir(dataset_path) if fname.endswith('.jpg')]\n",
        "print(f\"Ages shape: {len(ages)}\")"
      ],
      "metadata": {
        "colab": {
          "base_uri": "https://localhost:8080/"
        },
        "id": "lyJQccQkw-Ge",
        "outputId": "f05f128e-96d8-4053-834c-29d2f731c40e"
      },
      "execution_count": 11,
      "outputs": [
        {
          "output_type": "stream",
          "name": "stdout",
          "text": [
            "Ages shape: 9780\n"
          ]
        }
      ]
    },
    {
      "cell_type": "code",
      "source": [
        "# Categorize ages into ranges\n",
        "age_categories = [categorize_age(age) for age in ages]"
      ],
      "metadata": {
        "id": "a7LVEddzxPNL"
      },
      "execution_count": 12,
      "outputs": []
    },
    {
      "cell_type": "code",
      "source": [
        "import collections\n",
        "# Function to print the distribution of age ranges\n",
        "def print_age_distribution(labels, dataset_type):\n",
        "    counter = collections.Counter(labels)\n",
        "    print(f\"{dataset_type} Age Distribution:\")\n",
        "    for age_range, count in counter.items():\n",
        "        print(f\"Age range {age_range}: {count} samples\")"
      ],
      "metadata": {
        "id": "BHsybyxoyhT-"
      },
      "execution_count": 13,
      "outputs": []
    },
    {
      "cell_type": "code",
      "execution_count": 16,
      "metadata": {
        "colab": {
          "base_uri": "https://localhost:8080/"
        },
        "id": "DRrBuyogrulE",
        "outputId": "44cba131-87ef-416a-b55c-c680bc0f95bc"
      },
      "outputs": [
        {
          "output_type": "stream",
          "name": "stdout",
          "text": [
            "Training Age Distribution:\n",
            "Age range 6: 800 samples\n",
            "Age range 1: 1087 samples\n",
            "Age range 5: 1347 samples\n",
            "Age range 2: 1057 samples\n",
            "Age range 4: 1368 samples\n",
            "Age range 0: 1270 samples\n",
            "Age range 3: 895 samples\n",
            "Validation Age Distribution:\n",
            "Age range 5: 337 samples\n",
            "Age range 4: 342 samples\n",
            "Age range 0: 317 samples\n",
            "Age range 1: 272 samples\n",
            "Age range 3: 224 samples\n",
            "Age range 6: 200 samples\n",
            "Age range 2: 264 samples\n",
            "Dataset processed and split into '/content/UTKDataset/train' and '/content/UTKDataset/test' with labels saved as CSV.\n"
          ]
        }
      ],
      "source": [
        "\n",
        "\n",
        "def preprocess_and_split_dataset(dataset_path, output_path, resize_dim=(224, 224), test_size=0.2):\n",
        "    # Create output directories for training and testing\n",
        "    train_dir = os.path.join(output_path, 'train')\n",
        "    test_dir = os.path.join(output_path, 'test')\n",
        "    os.makedirs(train_dir, exist_ok=True)\n",
        "    os.makedirs(test_dir, exist_ok=True)\n",
        "\n",
        "\n",
        "    # Preprocess and resize images\n",
        "    processed_images = []\n",
        "    for img_path in image_paths:\n",
        "        try:\n",
        "            img = Image.open(img_path)  # Open the image\n",
        "            img = img.convert('L')  # Convert to grayscale\n",
        "            img = img.resize(resize_dim)  # Resize image\n",
        "            processed_images.append((img, os.path.basename(img_path)))  # Store processed image and filename\n",
        "        except Exception as e:\n",
        "            print(f\"Error processing {img_path}: {e}\")\n",
        "\n",
        "    # Split the dataset into training and testing sets\n",
        "    train_images, test_images, train_labels, test_labels = train_test_split(\n",
        "        image_paths, age_categories,stratify=age_categories, test_size=test_size, random_state=42\n",
        "    )\n",
        "\n",
        "        # Print distribution for training set\n",
        "    print_age_distribution(train_labels, \"Training\")\n",
        "\n",
        "    # Print distribution for validation set\n",
        "    print_age_distribution(test_labels, \"Validation\")\n",
        "\n",
        "    # Save training images and create train CSV\n",
        "    train_data = []\n",
        "    for img_path, label in zip(train_images, train_labels):\n",
        "        try:\n",
        "            img = Image.open(img_path)  # Open the image\n",
        "            img = img.convert('L')  # Convert to grayscale\n",
        "            img = img.resize(resize_dim)  # Resize image\n",
        "            img.save(os.path.join(train_dir, os.path.basename(img_path)))  # Save image to train folder\n",
        "            train_data.append({'filename': os.path.basename(img_path), 'age': label})\n",
        "        except Exception as e:\n",
        "            print(f\"Error processing {img_path}: {e}\")\n",
        "\n",
        "    train_df = pd.DataFrame(train_data)\n",
        "    train_df.to_csv(os.path.join(output_path, 'train_labels.csv'), index=False)\n",
        "\n",
        "    # Save testing images and create test CSV\n",
        "    test_data = []\n",
        "    for img_path, label in zip(test_images, test_labels):\n",
        "        try:\n",
        "            img = Image.open(img_path)  # Open the image\n",
        "            img = img.convert('L')  # Convert to grayscale\n",
        "            img = img.resize(resize_dim)  # Resize image\n",
        "            img.save(os.path.join(test_dir, os.path.basename(img_path)))  # Save image to test folder\n",
        "            test_data.append({'filename': os.path.basename(img_path), 'age': label})\n",
        "        except Exception as e:\n",
        "            print(f\"Error processing {img_path}: {e}\")\n",
        "\n",
        "    test_df = pd.DataFrame(test_data)\n",
        "    test_df.to_csv(os.path.join(output_path, 'test_labels.csv'), index=False)\n",
        "\n",
        "\n",
        "    print(f\"Dataset processed and split into '{train_dir}' and '{test_dir}' with labels saved as CSV.\")\n",
        "\n",
        "\n",
        "\n",
        "\n",
        "# Example usage\n",
        "\n",
        "output_path = '/content/UTKDataset'   # Change this to your output folder\n",
        "preprocess_and_split_dataset(dataset_path, output_path)\n"
      ]
    },
    {
      "cell_type": "code",
      "source": [
        "import shutil\n",
        "\n",
        "# Path to the output folder where 'train' and 'test' directories are created\n",
        "output_path = '/content/UTKDataset'  # Change this to your output folder path\n",
        "shutil.make_archive(output_path, 'zip', output_path)\n",
        "\n",
        "from google.colab import files\n",
        "files.download(output_path + '.zip')  # Download the zip file\n"
      ],
      "metadata": {
        "colab": {
          "base_uri": "https://localhost:8080/",
          "height": 17
        },
        "id": "Y9Yvpujz1rts",
        "outputId": "f605061a-d0b0-448f-f755-e626ecbe7a80"
      },
      "execution_count": 17,
      "outputs": [
        {
          "output_type": "display_data",
          "data": {
            "text/plain": [
              "<IPython.core.display.Javascript object>"
            ],
            "application/javascript": [
              "\n",
              "    async function download(id, filename, size) {\n",
              "      if (!google.colab.kernel.accessAllowed) {\n",
              "        return;\n",
              "      }\n",
              "      const div = document.createElement('div');\n",
              "      const label = document.createElement('label');\n",
              "      label.textContent = `Downloading \"${filename}\": `;\n",
              "      div.appendChild(label);\n",
              "      const progress = document.createElement('progress');\n",
              "      progress.max = size;\n",
              "      div.appendChild(progress);\n",
              "      document.body.appendChild(div);\n",
              "\n",
              "      const buffers = [];\n",
              "      let downloaded = 0;\n",
              "\n",
              "      const channel = await google.colab.kernel.comms.open(id);\n",
              "      // Send a message to notify the kernel that we're ready.\n",
              "      channel.send({})\n",
              "\n",
              "      for await (const message of channel.messages) {\n",
              "        // Send a message to notify the kernel that we're ready.\n",
              "        channel.send({})\n",
              "        if (message.buffers) {\n",
              "          for (const buffer of message.buffers) {\n",
              "            buffers.push(buffer);\n",
              "            downloaded += buffer.byteLength;\n",
              "            progress.value = downloaded;\n",
              "          }\n",
              "        }\n",
              "      }\n",
              "      const blob = new Blob(buffers, {type: 'application/binary'});\n",
              "      const a = document.createElement('a');\n",
              "      a.href = window.URL.createObjectURL(blob);\n",
              "      a.download = filename;\n",
              "      div.appendChild(a);\n",
              "      a.click();\n",
              "      div.remove();\n",
              "    }\n",
              "  "
            ]
          },
          "metadata": {}
        },
        {
          "output_type": "display_data",
          "data": {
            "text/plain": [
              "<IPython.core.display.Javascript object>"
            ],
            "application/javascript": [
              "download(\"download_5a640b14-dbe3-489e-a5a7-6ce1c2a8de2c\", \"UTKDataset.zip\", 49453796)"
            ]
          },
          "metadata": {}
        }
      ]
    }
  ]
}